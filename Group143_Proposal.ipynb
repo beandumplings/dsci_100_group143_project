{
 "cells": [
  {
   "cell_type": "markdown",
   "id": "b40c81c9-b9ed-4775-8fc0-e86a5fe7c0d6",
   "metadata": {},
   "source": [
    "# TITLE GO HERE"
   ]
  },
  {
   "cell_type": "markdown",
   "id": "ced33f18-60ac-49a1-a752-2cf15ac5ad4d",
   "metadata": {
    "tags": []
   },
   "source": [
    "### INTRODUCTION"
   ]
  },
  {
   "cell_type": "markdown",
   "id": "5037e903-fe3a-4042-be49-3cfae7792ac5",
   "metadata": {},
   "source": [
    "(Rest of the introduction go here)"
   ]
  },
  {
   "cell_type": "code",
   "execution_count": 1,
   "id": "a974cd3d-772f-4c63-8681-adce6ba53c37",
   "metadata": {},
   "outputs": [
    {
     "name": "stderr",
     "output_type": "stream",
     "text": [
      "── \u001b[1mAttaching packages\u001b[22m ─────────────────────────────────────── tidyverse 1.3.1 ──\n",
      "\n",
      "\u001b[32m✔\u001b[39m \u001b[34mggplot2\u001b[39m 3.3.6     \u001b[32m✔\u001b[39m \u001b[34mpurrr  \u001b[39m 0.3.4\n",
      "\u001b[32m✔\u001b[39m \u001b[34mtibble \u001b[39m 3.1.7     \u001b[32m✔\u001b[39m \u001b[34mdplyr  \u001b[39m 1.0.9\n",
      "\u001b[32m✔\u001b[39m \u001b[34mtidyr  \u001b[39m 1.2.0     \u001b[32m✔\u001b[39m \u001b[34mstringr\u001b[39m 1.4.0\n",
      "\u001b[32m✔\u001b[39m \u001b[34mreadr  \u001b[39m 2.1.2     \u001b[32m✔\u001b[39m \u001b[34mforcats\u001b[39m 0.5.1\n",
      "\n",
      "── \u001b[1mConflicts\u001b[22m ────────────────────────────────────────── tidyverse_conflicts() ──\n",
      "\u001b[31m✖\u001b[39m \u001b[34mdplyr\u001b[39m::\u001b[32mfilter()\u001b[39m masks \u001b[34mstats\u001b[39m::filter()\n",
      "\u001b[31m✖\u001b[39m \u001b[34mdplyr\u001b[39m::\u001b[32mlag()\u001b[39m    masks \u001b[34mstats\u001b[39m::lag()\n",
      "\n",
      "── \u001b[1mAttaching packages\u001b[22m ────────────────────────────────────── tidymodels 1.0.0 ──\n",
      "\n",
      "\u001b[32m✔\u001b[39m \u001b[34mbroom       \u001b[39m 1.0.0     \u001b[32m✔\u001b[39m \u001b[34mrsample     \u001b[39m 1.0.0\n",
      "\u001b[32m✔\u001b[39m \u001b[34mdials       \u001b[39m 1.0.0     \u001b[32m✔\u001b[39m \u001b[34mtune        \u001b[39m 1.0.0\n",
      "\u001b[32m✔\u001b[39m \u001b[34minfer       \u001b[39m 1.0.2     \u001b[32m✔\u001b[39m \u001b[34mworkflows   \u001b[39m 1.0.0\n",
      "\u001b[32m✔\u001b[39m \u001b[34mmodeldata   \u001b[39m 1.0.0     \u001b[32m✔\u001b[39m \u001b[34mworkflowsets\u001b[39m 1.0.0\n",
      "\u001b[32m✔\u001b[39m \u001b[34mparsnip     \u001b[39m 1.0.0     \u001b[32m✔\u001b[39m \u001b[34myardstick   \u001b[39m 1.0.0\n",
      "\u001b[32m✔\u001b[39m \u001b[34mrecipes     \u001b[39m 1.0.1     \n",
      "\n",
      "── \u001b[1mConflicts\u001b[22m ───────────────────────────────────────── tidymodels_conflicts() ──\n",
      "\u001b[31m✖\u001b[39m \u001b[34mscales\u001b[39m::\u001b[32mdiscard()\u001b[39m masks \u001b[34mpurrr\u001b[39m::discard()\n",
      "\u001b[31m✖\u001b[39m \u001b[34mdplyr\u001b[39m::\u001b[32mfilter()\u001b[39m   masks \u001b[34mstats\u001b[39m::filter()\n",
      "\u001b[31m✖\u001b[39m \u001b[34mrecipes\u001b[39m::\u001b[32mfixed()\u001b[39m  masks \u001b[34mstringr\u001b[39m::fixed()\n",
      "\u001b[31m✖\u001b[39m \u001b[34mdplyr\u001b[39m::\u001b[32mlag()\u001b[39m      masks \u001b[34mstats\u001b[39m::lag()\n",
      "\u001b[31m✖\u001b[39m \u001b[34myardstick\u001b[39m::\u001b[32mspec()\u001b[39m masks \u001b[34mreadr\u001b[39m::spec()\n",
      "\u001b[31m✖\u001b[39m \u001b[34mrecipes\u001b[39m::\u001b[32mstep()\u001b[39m   masks \u001b[34mstats\u001b[39m::step()\n",
      "\u001b[34m•\u001b[39m Learn how to get started at \u001b[32mhttps://www.tidymodels.org/start/\u001b[39m\n",
      "\n"
     ]
    }
   ],
   "source": [
    "### Run this cell before continuing.\n",
    "library(tidyverse)\n",
    "library(repr)\n",
    "library(tidymodels)\n",
    "library(dplyr)\n",
    "options(repr.matrix.max.rows = 6)\n",
    "\n",
    "### Also set the seed\n",
    "set.seed(2022)"
   ]
  },
  {
   "cell_type": "markdown",
   "id": "d9c707a8-4b9a-42ef-93db-1a06ec71c7a0",
   "metadata": {
    "tags": []
   },
   "source": [
    "### PRELIMINARY EXPLORATORY DATA ANALYSIS"
   ]
  },
  {
   "cell_type": "markdown",
   "id": "4092a840-166a-44a7-8304-1ea50667992c",
   "metadata": {},
   "source": [
    "For the project, we will use the data from Heart Disease Cleveland UCI dataset ([Kaggle link to dataset](https://www.kaggle.com/datasets/cherngs/heart-disease-cleveland-uci?resource=download)). The data set has 14 columns, and contains the following information (according to the website):\n",
    "1. **age**: Patient's age in years.\n",
    "2. **sex**: Patient's sex. 1 = male and 0 = female.\n",
    "3. **cp**: Patient's chest pain type:\n",
    "    - 0: typical angina\n",
    "    - 1: atypical angina\n",
    "    - 2: non-anginal pain\n",
    "    - 3: asymptomatic\n",
    "4. **trestbps**: Patient's resting blood pressure (in mmHg on admission to the hospital).\n",
    "5. **chol**: Patient's serum cholesterol in mg/dl.\n",
    "6. **fbs**: Patient's fasting blood sugar > 120 mg/dl (1 = true; 0 = false).\n",
    "7. **restecg**: Patient's resting electrocardiographic results:\n",
    "    - Value 0: normal\n",
    "    - Value 1: having ST-T wave abnormality (T wave inversions and/or ST elevation or depression of > 0.05 mV)\n",
    "    - Value 2: showing probable or definite left ventricular hypertrophy by Estes' criteria\n",
    "8. **thalach**: Patient's maximum heart rate achieved.\n",
    "9. **exang**: Patient has exercise induced angina (1 = yes; 0 = no).\n",
    "10. **oldpeak** : ST depression induced by exercise relative to rest.\n",
    "11. **slope**: The slope of the peak exercise ST segment.\n",
    "    - Value 0: upsloping\n",
    "    - Value 1: flat\n",
    "    - Value 2: downsloping\n",
    "12. **ca**: Number of major vessels (0-3) colored by flourosopy.\n",
    "13. **thal**: Thalassemia:\n",
    "    - Value 0: normal\n",
    "    - Value 1: fixed defect\n",
    "    - Value 2: reversable defect\n",
    "14. **condition**: Patient has heart disease (0 = no disease, 1 = disease)."
   ]
  },
  {
   "cell_type": "markdown",
   "id": "5013cad5-020f-4536-99f7-55073454f586",
   "metadata": {},
   "source": [
    "For our preliminary data analysis, we will start by loading the data onto this notebook:"
   ]
  },
  {
   "cell_type": "code",
   "execution_count": 2,
   "id": "e88a4ff3-4ab2-4210-9704-7c17c8d2528e",
   "metadata": {},
   "outputs": [
    {
     "name": "stderr",
     "output_type": "stream",
     "text": [
      "\u001b[1mRows: \u001b[22m\u001b[34m297\u001b[39m \u001b[1mColumns: \u001b[22m\u001b[34m14\u001b[39m\n",
      "\u001b[36m──\u001b[39m \u001b[1mColumn specification\u001b[22m \u001b[36m────────────────────────────────────────────────────────\u001b[39m\n",
      "\u001b[1mDelimiter:\u001b[22m \",\"\n",
      "\u001b[32mdbl\u001b[39m (14): age, sex, cp, trestbps, chol, fbs, restecg, thalach, exang, oldpea...\n",
      "\n",
      "\u001b[36mℹ\u001b[39m Use `spec()` to retrieve the full column specification for this data.\n",
      "\u001b[36mℹ\u001b[39m Specify the column types or set `show_col_types = FALSE` to quiet this message.\n"
     ]
    },
    {
     "data": {
      "text/html": [
       "<table class=\"dataframe\">\n",
       "<caption>A tibble: 297 × 14</caption>\n",
       "<thead>\n",
       "\t<tr><th scope=col>age</th><th scope=col>sex</th><th scope=col>cp</th><th scope=col>trestbps</th><th scope=col>chol</th><th scope=col>fbs</th><th scope=col>restecg</th><th scope=col>thalach</th><th scope=col>exang</th><th scope=col>oldpeak</th><th scope=col>slope</th><th scope=col>ca</th><th scope=col>thal</th><th scope=col>condition</th></tr>\n",
       "\t<tr><th scope=col>&lt;dbl&gt;</th><th scope=col>&lt;fct&gt;</th><th scope=col>&lt;fct&gt;</th><th scope=col>&lt;dbl&gt;</th><th scope=col>&lt;dbl&gt;</th><th scope=col>&lt;fct&gt;</th><th scope=col>&lt;fct&gt;</th><th scope=col>&lt;dbl&gt;</th><th scope=col>&lt;fct&gt;</th><th scope=col>&lt;dbl&gt;</th><th scope=col>&lt;fct&gt;</th><th scope=col>&lt;fct&gt;</th><th scope=col>&lt;fct&gt;</th><th scope=col>&lt;fct&gt;</th></tr>\n",
       "</thead>\n",
       "<tbody>\n",
       "\t<tr><td>69</td><td>1</td><td>0</td><td>160</td><td>234</td><td>1</td><td>2</td><td>131</td><td>0</td><td>0.1</td><td>1</td><td>1</td><td>0</td><td>0</td></tr>\n",
       "\t<tr><td>69</td><td>0</td><td>0</td><td>140</td><td>239</td><td>0</td><td>0</td><td>151</td><td>0</td><td>1.8</td><td>0</td><td>2</td><td>0</td><td>0</td></tr>\n",
       "\t<tr><td>66</td><td>0</td><td>0</td><td>150</td><td>226</td><td>0</td><td>0</td><td>114</td><td>0</td><td>2.6</td><td>2</td><td>0</td><td>0</td><td>0</td></tr>\n",
       "\t<tr><td>⋮</td><td>⋮</td><td>⋮</td><td>⋮</td><td>⋮</td><td>⋮</td><td>⋮</td><td>⋮</td><td>⋮</td><td>⋮</td><td>⋮</td><td>⋮</td><td>⋮</td><td>⋮</td></tr>\n",
       "\t<tr><td>35</td><td>1</td><td>3</td><td>120</td><td>198</td><td>0</td><td>0</td><td>130</td><td>1</td><td>1.6</td><td>1</td><td>0</td><td>2</td><td>1</td></tr>\n",
       "\t<tr><td>35</td><td>0</td><td>3</td><td>138</td><td>183</td><td>0</td><td>0</td><td>182</td><td>0</td><td>1.4</td><td>0</td><td>0</td><td>0</td><td>0</td></tr>\n",
       "\t<tr><td>35</td><td>1</td><td>3</td><td>126</td><td>282</td><td>0</td><td>2</td><td>156</td><td>1</td><td>0.0</td><td>0</td><td>0</td><td>2</td><td>1</td></tr>\n",
       "</tbody>\n",
       "</table>\n"
      ],
      "text/latex": [
       "A tibble: 297 × 14\n",
       "\\begin{tabular}{llllllllllllll}\n",
       " age & sex & cp & trestbps & chol & fbs & restecg & thalach & exang & oldpeak & slope & ca & thal & condition\\\\\n",
       " <dbl> & <fct> & <fct> & <dbl> & <dbl> & <fct> & <fct> & <dbl> & <fct> & <dbl> & <fct> & <fct> & <fct> & <fct>\\\\\n",
       "\\hline\n",
       "\t 69 & 1 & 0 & 160 & 234 & 1 & 2 & 131 & 0 & 0.1 & 1 & 1 & 0 & 0\\\\\n",
       "\t 69 & 0 & 0 & 140 & 239 & 0 & 0 & 151 & 0 & 1.8 & 0 & 2 & 0 & 0\\\\\n",
       "\t 66 & 0 & 0 & 150 & 226 & 0 & 0 & 114 & 0 & 2.6 & 2 & 0 & 0 & 0\\\\\n",
       "\t ⋮ & ⋮ & ⋮ & ⋮ & ⋮ & ⋮ & ⋮ & ⋮ & ⋮ & ⋮ & ⋮ & ⋮ & ⋮ & ⋮\\\\\n",
       "\t 35 & 1 & 3 & 120 & 198 & 0 & 0 & 130 & 1 & 1.6 & 1 & 0 & 2 & 1\\\\\n",
       "\t 35 & 0 & 3 & 138 & 183 & 0 & 0 & 182 & 0 & 1.4 & 0 & 0 & 0 & 0\\\\\n",
       "\t 35 & 1 & 3 & 126 & 282 & 0 & 2 & 156 & 1 & 0.0 & 0 & 0 & 2 & 1\\\\\n",
       "\\end{tabular}\n"
      ],
      "text/markdown": [
       "\n",
       "A tibble: 297 × 14\n",
       "\n",
       "| age &lt;dbl&gt; | sex &lt;fct&gt; | cp &lt;fct&gt; | trestbps &lt;dbl&gt; | chol &lt;dbl&gt; | fbs &lt;fct&gt; | restecg &lt;fct&gt; | thalach &lt;dbl&gt; | exang &lt;fct&gt; | oldpeak &lt;dbl&gt; | slope &lt;fct&gt; | ca &lt;fct&gt; | thal &lt;fct&gt; | condition &lt;fct&gt; |\n",
       "|---|---|---|---|---|---|---|---|---|---|---|---|---|---|\n",
       "| 69 | 1 | 0 | 160 | 234 | 1 | 2 | 131 | 0 | 0.1 | 1 | 1 | 0 | 0 |\n",
       "| 69 | 0 | 0 | 140 | 239 | 0 | 0 | 151 | 0 | 1.8 | 0 | 2 | 0 | 0 |\n",
       "| 66 | 0 | 0 | 150 | 226 | 0 | 0 | 114 | 0 | 2.6 | 2 | 0 | 0 | 0 |\n",
       "| ⋮ | ⋮ | ⋮ | ⋮ | ⋮ | ⋮ | ⋮ | ⋮ | ⋮ | ⋮ | ⋮ | ⋮ | ⋮ | ⋮ |\n",
       "| 35 | 1 | 3 | 120 | 198 | 0 | 0 | 130 | 1 | 1.6 | 1 | 0 | 2 | 1 |\n",
       "| 35 | 0 | 3 | 138 | 183 | 0 | 0 | 182 | 0 | 1.4 | 0 | 0 | 0 | 0 |\n",
       "| 35 | 1 | 3 | 126 | 282 | 0 | 2 | 156 | 1 | 0.0 | 0 | 0 | 2 | 1 |\n",
       "\n"
      ],
      "text/plain": [
       "    age sex cp trestbps chol fbs restecg thalach exang oldpeak slope ca thal\n",
       "1   69  1   0  160      234  1   2       131     0     0.1     1     1  0   \n",
       "2   69  0   0  140      239  0   0       151     0     1.8     0     2  0   \n",
       "3   66  0   0  150      226  0   0       114     0     2.6     2     0  0   \n",
       "⋮   ⋮   ⋮   ⋮  ⋮        ⋮    ⋮   ⋮       ⋮       ⋮     ⋮       ⋮     ⋮  ⋮   \n",
       "295 35  1   3  120      198  0   0       130     1     1.6     1     0  2   \n",
       "296 35  0   3  138      183  0   0       182     0     1.4     0     0  0   \n",
       "297 35  1   3  126      282  0   2       156     1     0.0     0     0  2   \n",
       "    condition\n",
       "1   0        \n",
       "2   0        \n",
       "3   0        \n",
       "⋮   ⋮        \n",
       "295 1        \n",
       "296 0        \n",
       "297 1        "
      ]
     },
     "metadata": {},
     "output_type": "display_data"
    }
   ],
   "source": [
    "heart_cleveland_data <- read_csv(\"https://raw.githubusercontent.com/soph-ien/dsci_100_group143_project/main/heart_cleveland_upload.csv\") |> \n",
    "                        mutate(across(c(sex:cp, fbs:restecg, exang, slope:condition), as_factor))\n",
    "heart_cleveland_data"
   ]
  },
  {
   "cell_type": "code",
   "execution_count": 18,
   "id": "bb2901aa-8f98-4b28-a4bd-3e58eddff945",
   "metadata": {},
   "outputs": [
    {
     "data": {
      "text/html": [
       "<table class=\"dataframe\">\n",
       "<caption>A tibble: 137 × 14</caption>\n",
       "<thead>\n",
       "\t<tr><th scope=col>age</th><th scope=col>sex</th><th scope=col>cp</th><th scope=col>trestbps</th><th scope=col>chol</th><th scope=col>fbs</th><th scope=col>restecg</th><th scope=col>thalach</th><th scope=col>exang</th><th scope=col>oldpeak</th><th scope=col>slope</th><th scope=col>ca</th><th scope=col>thal</th><th scope=col>condition</th></tr>\n",
       "\t<tr><th scope=col>&lt;dbl&gt;</th><th scope=col>&lt;fct&gt;</th><th scope=col>&lt;fct&gt;</th><th scope=col>&lt;dbl&gt;</th><th scope=col>&lt;dbl&gt;</th><th scope=col>&lt;fct&gt;</th><th scope=col>&lt;fct&gt;</th><th scope=col>&lt;dbl&gt;</th><th scope=col>&lt;fct&gt;</th><th scope=col>&lt;dbl&gt;</th><th scope=col>&lt;fct&gt;</th><th scope=col>&lt;fct&gt;</th><th scope=col>&lt;fct&gt;</th><th scope=col>&lt;fct&gt;</th></tr>\n",
       "</thead>\n",
       "<tbody>\n",
       "\t<tr><td>65</td><td>1</td><td>0</td><td>138</td><td>282</td><td>1</td><td>2</td><td>174</td><td>0</td><td>1.4</td><td>1</td><td>1</td><td>0</td><td>1</td></tr>\n",
       "\t<tr><td>61</td><td>1</td><td>0</td><td>134</td><td>234</td><td>0</td><td>0</td><td>145</td><td>0</td><td>2.6</td><td>1</td><td>2</td><td>0</td><td>1</td></tr>\n",
       "\t<tr><td>59</td><td>1</td><td>0</td><td>170</td><td>288</td><td>0</td><td>2</td><td>159</td><td>0</td><td>0.2</td><td>1</td><td>0</td><td>2</td><td>1</td></tr>\n",
       "\t<tr><td>⋮</td><td>⋮</td><td>⋮</td><td>⋮</td><td>⋮</td><td>⋮</td><td>⋮</td><td>⋮</td><td>⋮</td><td>⋮</td><td>⋮</td><td>⋮</td><td>⋮</td><td>⋮</td></tr>\n",
       "\t<tr><td>39</td><td>1</td><td>3</td><td>118</td><td>219</td><td>0</td><td>0</td><td>140</td><td>0</td><td>1.2</td><td>1</td><td>0</td><td>2</td><td>1</td></tr>\n",
       "\t<tr><td>35</td><td>1</td><td>3</td><td>120</td><td>198</td><td>0</td><td>0</td><td>130</td><td>1</td><td>1.6</td><td>1</td><td>0</td><td>2</td><td>1</td></tr>\n",
       "\t<tr><td>35</td><td>1</td><td>3</td><td>126</td><td>282</td><td>0</td><td>2</td><td>156</td><td>1</td><td>0.0</td><td>0</td><td>0</td><td>2</td><td>1</td></tr>\n",
       "</tbody>\n",
       "</table>\n"
      ],
      "text/latex": [
       "A tibble: 137 × 14\n",
       "\\begin{tabular}{llllllllllllll}\n",
       " age & sex & cp & trestbps & chol & fbs & restecg & thalach & exang & oldpeak & slope & ca & thal & condition\\\\\n",
       " <dbl> & <fct> & <fct> & <dbl> & <dbl> & <fct> & <fct> & <dbl> & <fct> & <dbl> & <fct> & <fct> & <fct> & <fct>\\\\\n",
       "\\hline\n",
       "\t 65 & 1 & 0 & 138 & 282 & 1 & 2 & 174 & 0 & 1.4 & 1 & 1 & 0 & 1\\\\\n",
       "\t 61 & 1 & 0 & 134 & 234 & 0 & 0 & 145 & 0 & 2.6 & 1 & 2 & 0 & 1\\\\\n",
       "\t 59 & 1 & 0 & 170 & 288 & 0 & 2 & 159 & 0 & 0.2 & 1 & 0 & 2 & 1\\\\\n",
       "\t ⋮ & ⋮ & ⋮ & ⋮ & ⋮ & ⋮ & ⋮ & ⋮ & ⋮ & ⋮ & ⋮ & ⋮ & ⋮ & ⋮\\\\\n",
       "\t 39 & 1 & 3 & 118 & 219 & 0 & 0 & 140 & 0 & 1.2 & 1 & 0 & 2 & 1\\\\\n",
       "\t 35 & 1 & 3 & 120 & 198 & 0 & 0 & 130 & 1 & 1.6 & 1 & 0 & 2 & 1\\\\\n",
       "\t 35 & 1 & 3 & 126 & 282 & 0 & 2 & 156 & 1 & 0.0 & 0 & 0 & 2 & 1\\\\\n",
       "\\end{tabular}\n"
      ],
      "text/markdown": [
       "\n",
       "A tibble: 137 × 14\n",
       "\n",
       "| age &lt;dbl&gt; | sex &lt;fct&gt; | cp &lt;fct&gt; | trestbps &lt;dbl&gt; | chol &lt;dbl&gt; | fbs &lt;fct&gt; | restecg &lt;fct&gt; | thalach &lt;dbl&gt; | exang &lt;fct&gt; | oldpeak &lt;dbl&gt; | slope &lt;fct&gt; | ca &lt;fct&gt; | thal &lt;fct&gt; | condition &lt;fct&gt; |\n",
       "|---|---|---|---|---|---|---|---|---|---|---|---|---|---|\n",
       "| 65 | 1 | 0 | 138 | 282 | 1 | 2 | 174 | 0 | 1.4 | 1 | 1 | 0 | 1 |\n",
       "| 61 | 1 | 0 | 134 | 234 | 0 | 0 | 145 | 0 | 2.6 | 1 | 2 | 0 | 1 |\n",
       "| 59 | 1 | 0 | 170 | 288 | 0 | 2 | 159 | 0 | 0.2 | 1 | 0 | 2 | 1 |\n",
       "| ⋮ | ⋮ | ⋮ | ⋮ | ⋮ | ⋮ | ⋮ | ⋮ | ⋮ | ⋮ | ⋮ | ⋮ | ⋮ | ⋮ |\n",
       "| 39 | 1 | 3 | 118 | 219 | 0 | 0 | 140 | 0 | 1.2 | 1 | 0 | 2 | 1 |\n",
       "| 35 | 1 | 3 | 120 | 198 | 0 | 0 | 130 | 1 | 1.6 | 1 | 0 | 2 | 1 |\n",
       "| 35 | 1 | 3 | 126 | 282 | 0 | 2 | 156 | 1 | 0.0 | 0 | 0 | 2 | 1 |\n",
       "\n"
      ],
      "text/plain": [
       "    age sex cp trestbps chol fbs restecg thalach exang oldpeak slope ca thal\n",
       "1   65  1   0  138      282  1   2       174     0     1.4     1     1  0   \n",
       "2   61  1   0  134      234  0   0       145     0     2.6     1     2  0   \n",
       "3   59  1   0  170      288  0   2       159     0     0.2     1     0  2   \n",
       "⋮   ⋮   ⋮   ⋮  ⋮        ⋮    ⋮   ⋮       ⋮       ⋮     ⋮       ⋮     ⋮  ⋮   \n",
       "135 39  1   3  118      219  0   0       140     0     1.2     1     0  2   \n",
       "136 35  1   3  120      198  0   0       130     1     1.6     1     0  2   \n",
       "137 35  1   3  126      282  0   2       156     1     0.0     0     0  2   \n",
       "    condition\n",
       "1   1        \n",
       "2   1        \n",
       "3   1        \n",
       "⋮   ⋮        \n",
       "135 1        \n",
       "136 1        \n",
       "137 1        "
      ]
     },
     "metadata": {},
     "output_type": "display_data"
    }
   ],
   "source": [
    "heart_cleveland_data_filter <- filter(heart_cleveland_data, condition == 1)\n",
    "heart_cleveland_data_filter"
   ]
  },
  {
   "cell_type": "code",
   "execution_count": 19,
   "id": "6d8f83de-7a8f-4fb9-b6c5-2e12af55e627",
   "metadata": {},
   "outputs": [],
   "source": [
    "heart_split <- initial_split(heart_cleveland_data_filter, prop = 0.75, strata = cp)\n",
    "heart_train <- training(heart_split)\n",
    "heart_test <- testing(heart_split)"
   ]
  },
  {
   "cell_type": "markdown",
   "id": "e043b17e-0a1a-48d4-8aeb-24a5b7d39bc8",
   "metadata": {},
   "source": [
    "Now that we got our training data, we can begin some exploratory data analysis. First we will see what's the proportion of each chest pain type in our training data:"
   ]
  },
  {
   "cell_type": "code",
   "execution_count": 20,
   "id": "30eb534a-3ebd-4938-a744-63147d2570b5",
   "metadata": {},
   "outputs": [
    {
     "data": {
      "text/html": [
       "<table class=\"dataframe\">\n",
       "<caption>A tibble: 4 × 3</caption>\n",
       "<thead>\n",
       "\t<tr><th scope=col>cp</th><th scope=col>n</th><th scope=col>percent</th></tr>\n",
       "\t<tr><th scope=col>&lt;fct&gt;</th><th scope=col>&lt;int&gt;</th><th scope=col>&lt;dbl&gt;</th></tr>\n",
       "</thead>\n",
       "<tbody>\n",
       "\t<tr><td>0</td><td> 4</td><td> 3.921569</td></tr>\n",
       "\t<tr><td>1</td><td> 8</td><td> 7.843137</td></tr>\n",
       "\t<tr><td>2</td><td>13</td><td>12.745098</td></tr>\n",
       "\t<tr><td>3</td><td>77</td><td>75.490196</td></tr>\n",
       "</tbody>\n",
       "</table>\n"
      ],
      "text/latex": [
       "A tibble: 4 × 3\n",
       "\\begin{tabular}{lll}\n",
       " cp & n & percent\\\\\n",
       " <fct> & <int> & <dbl>\\\\\n",
       "\\hline\n",
       "\t 0 &  4 &  3.921569\\\\\n",
       "\t 1 &  8 &  7.843137\\\\\n",
       "\t 2 & 13 & 12.745098\\\\\n",
       "\t 3 & 77 & 75.490196\\\\\n",
       "\\end{tabular}\n"
      ],
      "text/markdown": [
       "\n",
       "A tibble: 4 × 3\n",
       "\n",
       "| cp &lt;fct&gt; | n &lt;int&gt; | percent &lt;dbl&gt; |\n",
       "|---|---|---|\n",
       "| 0 |  4 |  3.921569 |\n",
       "| 1 |  8 |  7.843137 |\n",
       "| 2 | 13 | 12.745098 |\n",
       "| 3 | 77 | 75.490196 |\n",
       "\n"
      ],
      "text/plain": [
       "  cp n  percent  \n",
       "1 0   4  3.921569\n",
       "2 1   8  7.843137\n",
       "3 2  13 12.745098\n",
       "4 3  77 75.490196"
      ]
     },
     "metadata": {},
     "output_type": "display_data"
    }
   ],
   "source": [
    "heart_proportion_train <- heart_train |> group_by(cp) |> summarize(n=n()) |> mutate(percent = 100*n/nrow(heart_train))\n",
    "\n",
    "heart_proportion_train"
   ]
  },
  {
   "cell_type": "markdown",
   "id": "7e7c7bae-f86b-4cf6-8ea8-2ef02bd12ffa",
   "metadata": {},
   "source": [
    "So it seems that there's around 9.46% chest pain of type 0 (typical angina), 15.77% chest pain of type 1 (atypical angina), 27.48% chest pain of type 2 (non-anginal pain) and finally 47.29% chest pain of type 3 (asymptomic). Next, we want to know if there's any missing values in our training data:"
   ]
  },
  {
   "cell_type": "code",
   "execution_count": 21,
   "id": "18828cf1-ee4f-4634-b73d-2dd43b33a6d7",
   "metadata": {},
   "outputs": [
    {
     "data": {
      "text/html": [
       "<table class=\"dataframe\">\n",
       "<caption>A tibble: 1 × 14</caption>\n",
       "<thead>\n",
       "\t<tr><th scope=col>age</th><th scope=col>sex</th><th scope=col>cp</th><th scope=col>trestbps</th><th scope=col>chol</th><th scope=col>fbs</th><th scope=col>restecg</th><th scope=col>thalach</th><th scope=col>exang</th><th scope=col>oldpeak</th><th scope=col>slope</th><th scope=col>ca</th><th scope=col>thal</th><th scope=col>condition</th></tr>\n",
       "\t<tr><th scope=col>&lt;int&gt;</th><th scope=col>&lt;int&gt;</th><th scope=col>&lt;int&gt;</th><th scope=col>&lt;int&gt;</th><th scope=col>&lt;int&gt;</th><th scope=col>&lt;int&gt;</th><th scope=col>&lt;int&gt;</th><th scope=col>&lt;int&gt;</th><th scope=col>&lt;int&gt;</th><th scope=col>&lt;int&gt;</th><th scope=col>&lt;int&gt;</th><th scope=col>&lt;int&gt;</th><th scope=col>&lt;int&gt;</th><th scope=col>&lt;int&gt;</th></tr>\n",
       "</thead>\n",
       "<tbody>\n",
       "\t<tr><td>0</td><td>0</td><td>0</td><td>0</td><td>0</td><td>0</td><td>0</td><td>0</td><td>0</td><td>0</td><td>0</td><td>0</td><td>0</td><td>0</td></tr>\n",
       "</tbody>\n",
       "</table>\n"
      ],
      "text/latex": [
       "A tibble: 1 × 14\n",
       "\\begin{tabular}{llllllllllllll}\n",
       " age & sex & cp & trestbps & chol & fbs & restecg & thalach & exang & oldpeak & slope & ca & thal & condition\\\\\n",
       " <int> & <int> & <int> & <int> & <int> & <int> & <int> & <int> & <int> & <int> & <int> & <int> & <int> & <int>\\\\\n",
       "\\hline\n",
       "\t 0 & 0 & 0 & 0 & 0 & 0 & 0 & 0 & 0 & 0 & 0 & 0 & 0 & 0\\\\\n",
       "\\end{tabular}\n"
      ],
      "text/markdown": [
       "\n",
       "A tibble: 1 × 14\n",
       "\n",
       "| age &lt;int&gt; | sex &lt;int&gt; | cp &lt;int&gt; | trestbps &lt;int&gt; | chol &lt;int&gt; | fbs &lt;int&gt; | restecg &lt;int&gt; | thalach &lt;int&gt; | exang &lt;int&gt; | oldpeak &lt;int&gt; | slope &lt;int&gt; | ca &lt;int&gt; | thal &lt;int&gt; | condition &lt;int&gt; |\n",
       "|---|---|---|---|---|---|---|---|---|---|---|---|---|---|\n",
       "| 0 | 0 | 0 | 0 | 0 | 0 | 0 | 0 | 0 | 0 | 0 | 0 | 0 | 0 |\n",
       "\n"
      ],
      "text/plain": [
       "  age sex cp trestbps chol fbs restecg thalach exang oldpeak slope ca thal\n",
       "1 0   0   0  0        0    0   0       0       0     0       0     0  0   \n",
       "  condition\n",
       "1 0        "
      ]
     },
     "metadata": {},
     "output_type": "display_data"
    }
   ],
   "source": [
    "heart_missing_data_train <- as_tibble(apply(heart_train, 2, is.na)) |> map_df(sum)\n",
    "heart_missing_data_train"
   ]
  },
  {
   "cell_type": "markdown",
   "id": "d429bbf6-eadc-47e6-9969-e459a464bc56",
   "metadata": {},
   "source": [
    "There are no missing values in our training data, which means we don't need to do any additional work to remove them. Lastly, we will see the distribution resting blood pressure (trestpbs) in terms of the number of patients for each chest pain type. To do so, we create a table containing all the relevant columns:"
   ]
  },
  {
   "cell_type": "code",
   "execution_count": 22,
   "id": "53293756-8e9b-45c2-b478-11637a51be92",
   "metadata": {},
   "outputs": [
    {
     "data": {
      "text/html": [
       "<table class=\"dataframe\">\n",
       "<caption>A tibble: 102 × 2</caption>\n",
       "<thead>\n",
       "\t<tr><th scope=col>cp</th><th scope=col>trestbps</th></tr>\n",
       "\t<tr><th scope=col>&lt;fct&gt;</th><th scope=col>&lt;dbl&gt;</th></tr>\n",
       "</thead>\n",
       "<tbody>\n",
       "\t<tr><td>0</td><td>134</td></tr>\n",
       "\t<tr><td>0</td><td>170</td></tr>\n",
       "\t<tr><td>0</td><td>120</td></tr>\n",
       "\t<tr><td>⋮</td><td>⋮</td></tr>\n",
       "\t<tr><td>3</td><td>110</td></tr>\n",
       "\t<tr><td>3</td><td>118</td></tr>\n",
       "\t<tr><td>3</td><td>126</td></tr>\n",
       "</tbody>\n",
       "</table>\n"
      ],
      "text/latex": [
       "A tibble: 102 × 2\n",
       "\\begin{tabular}{ll}\n",
       " cp & trestbps\\\\\n",
       " <fct> & <dbl>\\\\\n",
       "\\hline\n",
       "\t 0 & 134\\\\\n",
       "\t 0 & 170\\\\\n",
       "\t 0 & 120\\\\\n",
       "\t ⋮ & ⋮\\\\\n",
       "\t 3 & 110\\\\\n",
       "\t 3 & 118\\\\\n",
       "\t 3 & 126\\\\\n",
       "\\end{tabular}\n"
      ],
      "text/markdown": [
       "\n",
       "A tibble: 102 × 2\n",
       "\n",
       "| cp &lt;fct&gt; | trestbps &lt;dbl&gt; |\n",
       "|---|---|\n",
       "| 0 | 134 |\n",
       "| 0 | 170 |\n",
       "| 0 | 120 |\n",
       "| ⋮ | ⋮ |\n",
       "| 3 | 110 |\n",
       "| 3 | 118 |\n",
       "| 3 | 126 |\n",
       "\n"
      ],
      "text/plain": [
       "    cp trestbps\n",
       "1   0  134     \n",
       "2   0  170     \n",
       "3   0  120     \n",
       "⋮   ⋮  ⋮       \n",
       "100 3  110     \n",
       "101 3  118     \n",
       "102 3  126     "
      ]
     },
     "metadata": {},
     "output_type": "display_data"
    }
   ],
   "source": [
    "heart_train_cp <- heart_train |> select(cp, trestbps)\n",
    "heart_train_cp"
   ]
  },
  {
   "cell_type": "markdown",
   "id": "68be3cc3-8707-4394-9181-9778a9dc4699",
   "metadata": {},
   "source": [
    "Then we create a histogram for each type of chest pain, and in each histogram, we show the distribution of resting blood pressure (trestbps) on the x-axis and the number of patients on the y-axis:"
   ]
  },
  {
   "cell_type": "code",
   "execution_count": 23,
   "id": "a414540e-9bb3-4592-90ff-66546f0c2367",
   "metadata": {},
   "outputs": [
    {
     "data": {
      "image/png": "[encoded data removed]",
      "text/plain": [
       "plot without title"
      ]
     },
     "metadata": {
      "image/png": {
       "height": 480,
       "width": 480
      }
     },
     "output_type": "display_data"
    }
   ],
   "source": [
    "options(repr.plot.width = 8, repr.plot.height = 8) \n",
    "heart_train_cp_plot <- heart_train_cp |> ggplot(aes(x = trestbps, fill = cp)) +\n",
    "                                        geom_histogram(bins = 25) +\n",
    "                                        labs(x = \"Resting blood pressure (mmHg)\", y = \"Number of patients\", fill = \"Chest pain type\") +\n",
    "                                        facet_grid(rows = vars(cp)) +\n",
    "                                        theme(text = element_text(size = 15)) +\n",
    "                                        scale_x_continuous(breaks = seq(90, 200, by = 10))\n",
    "heart_train_cp_plot"
   ]
  },
  {
   "cell_type": "markdown",
   "id": "fd3e1906-bf23-4946-a1c1-d64fe813ae8e",
   "metadata": {},
   "source": [
    "From the histograms, we see that most of the patients with chest pain type 2 and 3 have a resting blood pressure between 110 and 150 mmHg. Patients with type 1 chest pain are mainly populated in a smaller range, from slightly below 120 mmHg to 140 mmHg. Patients with type 0 chest pain are equally distributed over a wide range of blood pressure from 110 mmHg to 180 mmHg. In general, most patients with chest pain of any kind have resting blood pressure in the range from 110 to 150 mmHg. We can then expect that our predicted chest pain type to fall into that range as well."
   ]
  },
  {
   "cell_type": "markdown",
   "id": "eae20819-7f2b-4bd6-b346-1cf35e6e886f",
   "metadata": {
    "jp-MarkdownHeadingCollapsed": true,
    "tags": []
   },
   "source": [
    "### METHOD"
   ]
  },
  {
   "cell_type": "markdown",
   "id": "95f75196-96e2-41ed-9a69-86ef7b9b74d4",
   "metadata": {},
   "source": [
    "(The rest of the methods go here)"
   ]
  },
  {
   "cell_type": "markdown",
   "id": "9e64fc4c-80ce-4134-b2e3-a0be624c7c65",
   "metadata": {
    "jp-MarkdownHeadingCollapsed": true,
    "tags": []
   },
   "source": [
    "### EXPECTED OUTCOME AND SIGNIFICANCE"
   ]
  },
  {
   "cell_type": "markdown",
   "id": "5f6c3b60-a799-4a37-b3b8-6679f58c27f6",
   "metadata": {},
   "source": [
    "(The rest of this section go here)"
   ]
  },
  {
   "cell_type": "markdown",
   "id": "937bfec7-9f81-4451-a018-1d9d3f556be0",
   "metadata": {},
   "source": [
    "### REFERENCE"
   ]
  },
  {
   "cell_type": "code",
   "execution_count": null,
   "id": "f9dc374c-1845-49c9-b15d-0d13df30cea4",
   "metadata": {},
   "outputs": [],
   "source": []
  }
 ],
 "metadata": {
  "kernelspec": {
   "display_name": "R",
   "language": "R",
   "name": "ir"
  },
  "language_info": {
   "codemirror_mode": "r",
   "file_extension": ".r",
   "mimetype": "text/x-r-source",
   "name": "R",
   "pygments_lexer": "r",
   "version": "4.1.3"
  }
 },
 "nbformat": 4,
 "nbformat_minor": 5
}

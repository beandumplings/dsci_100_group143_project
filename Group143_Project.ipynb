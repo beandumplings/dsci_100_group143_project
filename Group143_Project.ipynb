{
 "cells": [
  {
   "cell_type": "markdown",
   "id": "cfd3bf85-0b09-4db1-80a3-d3445d7ebdc0",
   "metadata": {},
   "source": [
    "# Predicting Chest Pain Type for Heart Disease Patients  based on their Resting Blood Pressure and Cholesterol Level"
   ]
  },
  {
   "cell_type": "markdown",
   "id": "3b6c2d60-6dcb-4c59-b157-8b19633cec40",
   "metadata": {},
   "source": [
    "## Introduction"
   ]
  },
  {
   "cell_type": "markdown",
   "id": "c6f38069-f8d1-4382-8851-0f02f137d7d6",
   "metadata": {},
   "source": [
    "#### Background Information\n",
    "Chest pain (angina)¹ is the most obvious symptom of heart disease. High cholesterol and high blood pressure are major factors that induce chest pain because both affect coronary arteries that supply the heart with blood.\n",
    "\n",
    "Research has shown that high cholesterol causes accumulation on the artery walls, further reduces artery blood flow, and causes complications like chest pain². Also, high blood pressure damages arteries by reducing elasticity, which decreases blood and oxygen flow to the heart, and leads to chest pain³. \n",
    "\n",
    "Scientists define cholesterol level above 240 mg/dl as high and dangerous⁴, and systolic pressure (artery pressure when heart beats) above 130mmHg as hypertension³. Blood pressure in this project is systolic pressure.\n",
    "\n",
    "\n",
    "#### Dataset Description + Question we try to answer\n",
    "In our project, we use the Cleveland database in the UCI Heart Disease Data Set ([Kaggle link to dataset](https://www.kaggle.com/datasets/cherngs/heart-disease-cleveland-uci?resource=download)). It contains 14 attributes and information supported by Cleveland Clinic Foundation. We aim to predict chest pain type for heart disease patients from their blood pressure and cholesterol values."
   ]
  },
  {
   "cell_type": "code",
   "execution_count": 1,
   "id": "fa166b94-fa95-41f9-b501-2e71b5b17000",
   "metadata": {},
   "outputs": [
    {
     "name": "stderr",
     "output_type": "stream",
     "text": [
      "── \u001b[1mAttaching packages\u001b[22m ─────────────────────────────────────── tidyverse 1.3.1 ──\n",
      "\n",
      "\u001b[32m✔\u001b[39m \u001b[34mggplot2\u001b[39m 3.3.6     \u001b[32m✔\u001b[39m \u001b[34mpurrr  \u001b[39m 0.3.4\n",
      "\u001b[32m✔\u001b[39m \u001b[34mtibble \u001b[39m 3.1.7     \u001b[32m✔\u001b[39m \u001b[34mdplyr  \u001b[39m 1.0.9\n",
      "\u001b[32m✔\u001b[39m \u001b[34mtidyr  \u001b[39m 1.2.0     \u001b[32m✔\u001b[39m \u001b[34mstringr\u001b[39m 1.4.0\n",
      "\u001b[32m✔\u001b[39m \u001b[34mreadr  \u001b[39m 2.1.2     \u001b[32m✔\u001b[39m \u001b[34mforcats\u001b[39m 0.5.1\n",
      "\n",
      "── \u001b[1mConflicts\u001b[22m ────────────────────────────────────────── tidyverse_conflicts() ──\n",
      "\u001b[31m✖\u001b[39m \u001b[34mdplyr\u001b[39m::\u001b[32mfilter()\u001b[39m masks \u001b[34mstats\u001b[39m::filter()\n",
      "\u001b[31m✖\u001b[39m \u001b[34mdplyr\u001b[39m::\u001b[32mlag()\u001b[39m    masks \u001b[34mstats\u001b[39m::lag()\n",
      "\n",
      "── \u001b[1mAttaching packages\u001b[22m ────────────────────────────────────── tidymodels 1.0.0 ──\n",
      "\n",
      "\u001b[32m✔\u001b[39m \u001b[34mbroom       \u001b[39m 1.0.0     \u001b[32m✔\u001b[39m \u001b[34mrsample     \u001b[39m 1.0.0\n",
      "\u001b[32m✔\u001b[39m \u001b[34mdials       \u001b[39m 1.0.0     \u001b[32m✔\u001b[39m \u001b[34mtune        \u001b[39m 1.0.0\n",
      "\u001b[32m✔\u001b[39m \u001b[34minfer       \u001b[39m 1.0.2     \u001b[32m✔\u001b[39m \u001b[34mworkflows   \u001b[39m 1.0.0\n",
      "\u001b[32m✔\u001b[39m \u001b[34mmodeldata   \u001b[39m 1.0.0     \u001b[32m✔\u001b[39m \u001b[34mworkflowsets\u001b[39m 1.0.0\n",
      "\u001b[32m✔\u001b[39m \u001b[34mparsnip     \u001b[39m 1.0.0     \u001b[32m✔\u001b[39m \u001b[34myardstick   \u001b[39m 1.0.0\n",
      "\u001b[32m✔\u001b[39m \u001b[34mrecipes     \u001b[39m 1.0.1     \n",
      "\n",
      "── \u001b[1mConflicts\u001b[22m ───────────────────────────────────────── tidymodels_conflicts() ──\n",
      "\u001b[31m✖\u001b[39m \u001b[34mscales\u001b[39m::\u001b[32mdiscard()\u001b[39m masks \u001b[34mpurrr\u001b[39m::discard()\n",
      "\u001b[31m✖\u001b[39m \u001b[34mdplyr\u001b[39m::\u001b[32mfilter()\u001b[39m   masks \u001b[34mstats\u001b[39m::filter()\n",
      "\u001b[31m✖\u001b[39m \u001b[34mrecipes\u001b[39m::\u001b[32mfixed()\u001b[39m  masks \u001b[34mstringr\u001b[39m::fixed()\n",
      "\u001b[31m✖\u001b[39m \u001b[34mdplyr\u001b[39m::\u001b[32mlag()\u001b[39m      masks \u001b[34mstats\u001b[39m::lag()\n",
      "\u001b[31m✖\u001b[39m \u001b[34myardstick\u001b[39m::\u001b[32mspec()\u001b[39m masks \u001b[34mreadr\u001b[39m::spec()\n",
      "\u001b[31m✖\u001b[39m \u001b[34mrecipes\u001b[39m::\u001b[32mstep()\u001b[39m   masks \u001b[34mstats\u001b[39m::step()\n",
      "\u001b[34m•\u001b[39m Use \u001b[32mtidymodels_prefer()\u001b[39m to resolve common conflicts.\n",
      "\n"
     ]
    }
   ],
   "source": [
    "### Run this cell before continuing.\n",
    "library(tidyverse)\n",
    "library(repr)\n",
    "library(tidymodels)\n",
    "library(dplyr)\n",
    "library(themis)\n",
    "options(repr.matrix.max.rows = 6)\n",
    "\n",
    "### Also set the seed\n",
    "set.seed(2022)"
   ]
  },
  {
   "cell_type": "code",
   "execution_count": 2,
   "id": "7f5fb015-c99f-4f61-8dcc-381bab23ac2e",
   "metadata": {},
   "outputs": [
    {
     "name": "stderr",
     "output_type": "stream",
     "text": [
      "Updating HTML index of packages in '.Library'\n",
      "\n",
      "Making 'packages.html' ...\n",
      " done\n",
      "\n"
     ]
    }
   ],
   "source": [
    "install.packages(\"themis\")"
   ]
  },
  {
   "cell_type": "markdown",
   "id": "c274bb79-1b04-4ddc-ba2e-e0a8ab2855aa",
   "metadata": {},
   "source": [
    "### METHOD & RESULTS"
   ]
  },
  {
   "cell_type": "markdown",
   "id": "f0d35fef-a38b-440d-b57f-05f71e7d7343",
   "metadata": {},
   "source": [
    "#### EXPLORATORY DATA ANALYSIS"
   ]
  },
  {
   "cell_type": "markdown",
   "id": "6770ea54-d4d0-47e6-a3b7-ef6db51843f5",
   "metadata": {},
   "source": [
    "The original data set has 14 columns, which contains information about the patient's chest pain type along with other heart data. After our preliminary data analysis, we have decided that there are 4 columns that are relevant to our question. The following 4 columns and their definition (according to the website) are:\n",
    "1. **cp**: Patient's chest pain type:\n",
    "    - 0: typical angina\n",
    "    - 1: atypical angina\n",
    "    - 2: non-anginal pain\n",
    "    - 3: asymptomatic\n",
    "2. **trestbps**: Patient's resting blood pressure (in mmHg on admission to the hospital).\n",
    "3. **chol**: Patient's serum cholesterol in mg/dl."
   ]
  },
  {
   "cell_type": "code",
   "execution_count": 3,
   "id": "22610ccd-8b74-4eaa-bb51-88cf566ddec5",
   "metadata": {},
   "outputs": [
    {
     "name": "stderr",
     "output_type": "stream",
     "text": [
      "\u001b[1mRows: \u001b[22m\u001b[34m297\u001b[39m \u001b[1mColumns: \u001b[22m\u001b[34m14\u001b[39m\n",
      "\u001b[36m──\u001b[39m \u001b[1mColumn specification\u001b[22m \u001b[36m────────────────────────────────────────────────────────\u001b[39m\n",
      "\u001b[1mDelimiter:\u001b[22m \",\"\n",
      "\u001b[32mdbl\u001b[39m (14): age, sex, cp, trestbps, chol, fbs, restecg, thalach, exang, oldpea...\n",
      "\n",
      "\u001b[36mℹ\u001b[39m Use `spec()` to retrieve the full column specification for this data.\n",
      "\u001b[36mℹ\u001b[39m Specify the column types or set `show_col_types = FALSE` to quiet this message.\n"
     ]
    }
   ],
   "source": [
    "set.seed(2022)\n",
    "### Code block\n",
    "# Loading data\n",
    "heart_cleveland_data <- read_csv(\"https://raw.githubusercontent.com/soph-ien/dsci_100_group143_project/main/heart_cleveland_upload.csv\") |> \n",
    "                        mutate(across(c(sex:cp, fbs:restecg, exang, slope:condition), as_factor))\n",
    "\n",
    "# Filtering for people with a heart condition\n",
    "heart_cleveland_data_filter <- filter(heart_cleveland_data, condition == 1) |> select(cp, trestbps, chol)\n",
    "\n",
    "# Spliting the data into training and test data\n",
    "heart_split <- initial_split(heart_cleveland_data_filter, prop = 0.75, strata = cp)\n",
    "heart_train <- training(heart_split)\n",
    "heart_test <- testing(heart_split)\n",
    "\n",
    "# Investigate the proportion of each cp types in the training data\n",
    "heart_proportion_train <- heart_train |> group_by(cp) |> summarize(n=n()) |> mutate(percent = 100*n/nrow(heart_train))\n",
    "\n",
    "# Investigate if there's any missing values\n",
    "heart_missing_data_train <- as_tibble(apply(heart_train, 2, is.na)) |> map_df(sum)\n",
    "\n",
    "# Plotting the distribution of resting blood pressure for each type of chest pain via histograms\n",
    "options(repr.plot.width = 8, repr.plot.height = 8) \n",
    "heart_train_cp_plot <- heart_train |> ggplot(aes(x = trestbps, fill = cp)) +\n",
    "                                        geom_histogram(bins = 25) +\n",
    "                                        labs(x = \"Resting blood pressure (mmHg)\", y = \"Number of patients\", fill = \"Chest pain type\") +\n",
    "                                        theme(text = element_text(size = 15)) +\n",
    "                                        scale_x_continuous(breaks = seq(90, 200, by = 10))"
   ]
  },
  {
   "cell_type": "code",
   "execution_count": 4,
   "id": "8223bbfa-538a-4c99-b982-13232b587eb9",
   "metadata": {},
   "outputs": [
    {
     "data": {
      "text/html": [
       "<table class=\"dataframe\">\n",
       "<caption>A tibble: 137 × 3</caption>\n",
       "<thead>\n",
       "\t<tr><th scope=col>cp</th><th scope=col>trestbps</th><th scope=col>chol</th></tr>\n",
       "\t<tr><th scope=col>&lt;fct&gt;</th><th scope=col>&lt;dbl&gt;</th><th scope=col>&lt;dbl&gt;</th></tr>\n",
       "</thead>\n",
       "<tbody>\n",
       "\t<tr><td>0</td><td>138</td><td>282</td></tr>\n",
       "\t<tr><td>0</td><td>134</td><td>234</td></tr>\n",
       "\t<tr><td>0</td><td>170</td><td>288</td></tr>\n",
       "\t<tr><td>⋮</td><td>⋮</td><td>⋮</td></tr>\n",
       "\t<tr><td>3</td><td>118</td><td>219</td></tr>\n",
       "\t<tr><td>3</td><td>120</td><td>198</td></tr>\n",
       "\t<tr><td>3</td><td>126</td><td>282</td></tr>\n",
       "</tbody>\n",
       "</table>\n"
      ],
      "text/latex": [
       "A tibble: 137 × 3\n",
       "\\begin{tabular}{lll}\n",
       " cp & trestbps & chol\\\\\n",
       " <fct> & <dbl> & <dbl>\\\\\n",
       "\\hline\n",
       "\t 0 & 138 & 282\\\\\n",
       "\t 0 & 134 & 234\\\\\n",
       "\t 0 & 170 & 288\\\\\n",
       "\t ⋮ & ⋮ & ⋮\\\\\n",
       "\t 3 & 118 & 219\\\\\n",
       "\t 3 & 120 & 198\\\\\n",
       "\t 3 & 126 & 282\\\\\n",
       "\\end{tabular}\n"
      ],
      "text/markdown": [
       "\n",
       "A tibble: 137 × 3\n",
       "\n",
       "| cp &lt;fct&gt; | trestbps &lt;dbl&gt; | chol &lt;dbl&gt; |\n",
       "|---|---|---|\n",
       "| 0 | 138 | 282 |\n",
       "| 0 | 134 | 234 |\n",
       "| 0 | 170 | 288 |\n",
       "| ⋮ | ⋮ | ⋮ |\n",
       "| 3 | 118 | 219 |\n",
       "| 3 | 120 | 198 |\n",
       "| 3 | 126 | 282 |\n",
       "\n"
      ],
      "text/plain": [
       "    cp trestbps chol\n",
       "1   0  138      282 \n",
       "2   0  134      234 \n",
       "3   0  170      288 \n",
       "⋮   ⋮  ⋮        ⋮   \n",
       "135 3  118      219 \n",
       "136 3  120      198 \n",
       "137 3  126      282 "
      ]
     },
     "metadata": {},
     "output_type": "display_data"
    },
    {
     "data": {
      "text/html": [
       "<table class=\"dataframe\">\n",
       "<caption>A tibble: 4 × 3</caption>\n",
       "<thead>\n",
       "\t<tr><th scope=col>cp</th><th scope=col>n</th><th scope=col>percent</th></tr>\n",
       "\t<tr><th scope=col>&lt;fct&gt;</th><th scope=col>&lt;int&gt;</th><th scope=col>&lt;dbl&gt;</th></tr>\n",
       "</thead>\n",
       "<tbody>\n",
       "\t<tr><td>0</td><td> 7</td><td> 6.862745</td></tr>\n",
       "\t<tr><td>1</td><td> 6</td><td> 5.882353</td></tr>\n",
       "\t<tr><td>2</td><td>13</td><td>12.745098</td></tr>\n",
       "\t<tr><td>3</td><td>76</td><td>74.509804</td></tr>\n",
       "</tbody>\n",
       "</table>\n"
      ],
      "text/latex": [
       "A tibble: 4 × 3\n",
       "\\begin{tabular}{lll}\n",
       " cp & n & percent\\\\\n",
       " <fct> & <int> & <dbl>\\\\\n",
       "\\hline\n",
       "\t 0 &  7 &  6.862745\\\\\n",
       "\t 1 &  6 &  5.882353\\\\\n",
       "\t 2 & 13 & 12.745098\\\\\n",
       "\t 3 & 76 & 74.509804\\\\\n",
       "\\end{tabular}\n"
      ],
      "text/markdown": [
       "\n",
       "A tibble: 4 × 3\n",
       "\n",
       "| cp &lt;fct&gt; | n &lt;int&gt; | percent &lt;dbl&gt; |\n",
       "|---|---|---|\n",
       "| 0 |  7 |  6.862745 |\n",
       "| 1 |  6 |  5.882353 |\n",
       "| 2 | 13 | 12.745098 |\n",
       "| 3 | 76 | 74.509804 |\n",
       "\n"
      ],
      "text/plain": [
       "  cp n  percent  \n",
       "1 0   7  6.862745\n",
       "2 1   6  5.882353\n",
       "3 2  13 12.745098\n",
       "4 3  76 74.509804"
      ]
     },
     "metadata": {},
     "output_type": "display_data"
    },
    {
     "data": {
      "text/html": [
       "<table class=\"dataframe\">\n",
       "<caption>A tibble: 1 × 3</caption>\n",
       "<thead>\n",
       "\t<tr><th scope=col>cp</th><th scope=col>trestbps</th><th scope=col>chol</th></tr>\n",
       "\t<tr><th scope=col>&lt;int&gt;</th><th scope=col>&lt;int&gt;</th><th scope=col>&lt;int&gt;</th></tr>\n",
       "</thead>\n",
       "<tbody>\n",
       "\t<tr><td>0</td><td>0</td><td>0</td></tr>\n",
       "</tbody>\n",
       "</table>\n"
      ],
      "text/latex": [
       "A tibble: 1 × 3\n",
       "\\begin{tabular}{lll}\n",
       " cp & trestbps & chol\\\\\n",
       " <int> & <int> & <int>\\\\\n",
       "\\hline\n",
       "\t 0 & 0 & 0\\\\\n",
       "\\end{tabular}\n"
      ],
      "text/markdown": [
       "\n",
       "A tibble: 1 × 3\n",
       "\n",
       "| cp &lt;int&gt; | trestbps &lt;int&gt; | chol &lt;int&gt; |\n",
       "|---|---|---|\n",
       "| 0 | 0 | 0 |\n",
       "\n"
      ],
      "text/plain": [
       "  cp trestbps chol\n",
       "1 0  0        0   "
      ]
     },
     "metadata": {},
     "output_type": "display_data"
    },
    {
     "data": {
      "image/png": "[encoded data removed]",
      "text/plain": [
       "plot without title"
      ]
     },
     "metadata": {
      "image/png": {
       "height": 480,
       "width": 480
      }
     },
     "output_type": "display_data"
    }
   ],
   "source": [
    "### Load block\n",
    "heart_cleveland_data_filter\n",
    "heart_proportion_train\n",
    "heart_missing_data_train\n",
    "heart_train_cp_plot"
   ]
  },
  {
   "cell_type": "markdown",
   "id": "5f4edb8c-d3e6-4564-902d-08bc9c4ce795",
   "metadata": {},
   "source": [
    "##### ***SUMMARY OF EXPLORATORY DATA ANALYSIS***:"
   ]
  },
  {
   "cell_type": "markdown",
   "id": "039909d4-57a0-429d-bb6c-c3a09ef6d9cc",
   "metadata": {},
   "source": [
    "In our training data, most patients have type 3 chest pain (asymptomatic, 74.51%), followed by type 2 (non-anginal pain, 12.75%), then type 0 (typical angina, 6.86%) and finally type 1 (atypical angina, 5.88% ). There is an imbalance in the distribution for chest pain type, so we need to balance them before we start our classification. Next, we examine the presence of missing values in the training set. Results show there are no missing values, so no further steps are needed to remove them.\n",
    "\n",
    "Lastly, to visualize patients number and their resting blood pressure (testpbs), we create a histogram with trestbps on x-axis and number of patients on y-axis. We color the chest pain type to emphasize the distribution across various values of RBP. From the histogram, most heart disease patients have RBP ranging from 110 to 150 mmHg. We also found the number of asymptomatic chest pain patients are broadly spread out with a range of 110-170 mmHg."
   ]
  },
  {
   "cell_type": "markdown",
   "id": "4882e0ab-2d79-4acf-bba2-9d528200c15c",
   "metadata": {},
   "source": [
    "#### METHOD"
   ]
  },
  {
   "cell_type": "code",
   "execution_count": 5,
   "id": "e39097ce-34a6-4c79-aa13-1dbf6c3b4440",
   "metadata": {},
   "outputs": [],
   "source": [
    "set.seed(2022)"
   ]
  },
  {
   "cell_type": "code",
   "execution_count": 6,
   "id": "8116c263-c098-488b-aa10-683585188d85",
   "metadata": {},
   "outputs": [],
   "source": [
    "knn_spec <- nearest_neighbor(weight_func = \"rectangular\", neighbors = tune()) |>  \n",
    "            set_engine(\"kknn\") |>                                            \n",
    "            set_mode(\"classification\") "
   ]
  },
  {
   "cell_type": "code",
   "execution_count": 7,
   "id": "906ebfa4-1d23-4022-a6dd-0939eb9d4e09",
   "metadata": {},
   "outputs": [],
   "source": [
    "heart_vfold <- vfold_cv(heart_train, v = 5, strata = cp)"
   ]
  },
  {
   "cell_type": "code",
   "execution_count": 8,
   "id": "9e20ea76-bf06-42cb-8758-334f24c2bd3e",
   "metadata": {},
   "outputs": [],
   "source": [
    "k_vals <- tibble(neighbors = seq(from = 1, to = 100, by = 5))"
   ]
  },
  {
   "cell_type": "code",
   "execution_count": 9,
   "id": "97f6c75e-9479-4a99-8295-d392c9acf05b",
   "metadata": {},
   "outputs": [
    {
     "data": {
      "text/plain": [
       "Recipe\n",
       "\n",
       "Inputs:\n",
       "\n",
       "      role #variables\n",
       "   outcome          1\n",
       " predictor          2\n",
       "\n",
       "Operations:\n",
       "\n",
       "Scaling for all_predictors()\n",
       "Centering for all_predictors()\n",
       "Up-sampling based on cp"
      ]
     },
     "metadata": {},
     "output_type": "display_data"
    }
   ],
   "source": [
    "knn_recipe <- recipe(cp ~ ., data = heart_train) |>\n",
    "step_scale(all_predictors()) |>              \n",
    "step_center(all_predictors()) |>\n",
    "step_upsample(cp, over_ratio = 1)\n",
    "knn_recipe"
   ]
  },
  {
   "cell_type": "code",
   "execution_count": 11,
   "id": "240eeaa2-507b-4848-8bc3-b66a5e0f04be",
   "metadata": {},
   "outputs": [],
   "source": [
    "set.seed(2022)"
   ]
  },
  {
   "cell_type": "code",
   "execution_count": 12,
   "id": "a55ea7a8-6fb8-4ef1-b604-86ee17ff3230",
   "metadata": {},
   "outputs": [
    {
     "name": "stderr",
     "output_type": "stream",
     "text": [
      "\u001b[33m!\u001b[39m \u001b[33mFold4: internal:\n",
      "  No observations were detected in `truth` for level(s): '1'\n",
      "  Computation will proceed by ignoring those levels.\u001b[39m\n",
      "\n",
      "\u001b[33m!\u001b[39m \u001b[33mFold5: internal:\n",
      "  No observations were detected in `truth` for level(s): '0'\n",
      "  Computation will proceed by ignoring those levels.\u001b[39m\n",
      "\n"
     ]
    }
   ],
   "source": [
    "knn_results <- workflow() |>\n",
    "add_recipe(knn_recipe) |>\n",
    "add_model(knn_spec) |>\n",
    "tune_grid(resamples = heart_vfold, grid = k_vals) |>\n",
    "collect_metrics()"
   ]
  },
  {
   "cell_type": "code",
   "execution_count": 14,
   "id": "8c485830-305d-47ce-ab67-62af2e566b97",
   "metadata": {},
   "outputs": [
    {
     "data": {
      "text/html": [
       "<table class=\"dataframe\">\n",
       "<caption>A tibble: 20 × 7</caption>\n",
       "<thead>\n",
       "\t<tr><th scope=col>neighbors</th><th scope=col>.metric</th><th scope=col>.estimator</th><th scope=col>mean</th><th scope=col>n</th><th scope=col>std_err</th><th scope=col>.config</th></tr>\n",
       "\t<tr><th scope=col>&lt;dbl&gt;</th><th scope=col>&lt;chr&gt;</th><th scope=col>&lt;chr&gt;</th><th scope=col>&lt;dbl&gt;</th><th scope=col>&lt;int&gt;</th><th scope=col>&lt;dbl&gt;</th><th scope=col>&lt;chr&gt;</th></tr>\n",
       "</thead>\n",
       "<tbody>\n",
       "\t<tr><td> 1</td><td>accuracy</td><td>multiclass</td><td>0.5651128</td><td>5</td><td>0.05778073</td><td>Preprocessor1_Model01</td></tr>\n",
       "\t<tr><td> 6</td><td>accuracy</td><td>multiclass</td><td>0.2324812</td><td>5</td><td>0.03890751</td><td>Preprocessor1_Model02</td></tr>\n",
       "\t<tr><td>11</td><td>accuracy</td><td>multiclass</td><td>0.1834336</td><td>5</td><td>0.05812192</td><td>Preprocessor1_Model03</td></tr>\n",
       "\t<tr><td>⋮</td><td>⋮</td><td>⋮</td><td>⋮</td><td>⋮</td><td>⋮</td><td>⋮</td></tr>\n",
       "\t<tr><td>86</td><td>accuracy</td><td>multiclass</td><td>0.10766917</td><td>5</td><td>0.03883188</td><td>Preprocessor1_Model18</td></tr>\n",
       "\t<tr><td>91</td><td>accuracy</td><td>multiclass</td><td>0.08909774</td><td>5</td><td>0.04296272</td><td>Preprocessor1_Model19</td></tr>\n",
       "\t<tr><td>96</td><td>accuracy</td><td>multiclass</td><td>0.11814536</td><td>5</td><td>0.04657607</td><td>Preprocessor1_Model20</td></tr>\n",
       "</tbody>\n",
       "</table>\n"
      ],
      "text/latex": [
       "A tibble: 20 × 7\n",
       "\\begin{tabular}{lllllll}\n",
       " neighbors & .metric & .estimator & mean & n & std\\_err & .config\\\\\n",
       " <dbl> & <chr> & <chr> & <dbl> & <int> & <dbl> & <chr>\\\\\n",
       "\\hline\n",
       "\t  1 & accuracy & multiclass & 0.5651128 & 5 & 0.05778073 & Preprocessor1\\_Model01\\\\\n",
       "\t  6 & accuracy & multiclass & 0.2324812 & 5 & 0.03890751 & Preprocessor1\\_Model02\\\\\n",
       "\t 11 & accuracy & multiclass & 0.1834336 & 5 & 0.05812192 & Preprocessor1\\_Model03\\\\\n",
       "\t ⋮ & ⋮ & ⋮ & ⋮ & ⋮ & ⋮ & ⋮\\\\\n",
       "\t 86 & accuracy & multiclass & 0.10766917 & 5 & 0.03883188 & Preprocessor1\\_Model18\\\\\n",
       "\t 91 & accuracy & multiclass & 0.08909774 & 5 & 0.04296272 & Preprocessor1\\_Model19\\\\\n",
       "\t 96 & accuracy & multiclass & 0.11814536 & 5 & 0.04657607 & Preprocessor1\\_Model20\\\\\n",
       "\\end{tabular}\n"
      ],
      "text/markdown": [
       "\n",
       "A tibble: 20 × 7\n",
       "\n",
       "| neighbors &lt;dbl&gt; | .metric &lt;chr&gt; | .estimator &lt;chr&gt; | mean &lt;dbl&gt; | n &lt;int&gt; | std_err &lt;dbl&gt; | .config &lt;chr&gt; |\n",
       "|---|---|---|---|---|---|---|\n",
       "|  1 | accuracy | multiclass | 0.5651128 | 5 | 0.05778073 | Preprocessor1_Model01 |\n",
       "|  6 | accuracy | multiclass | 0.2324812 | 5 | 0.03890751 | Preprocessor1_Model02 |\n",
       "| 11 | accuracy | multiclass | 0.1834336 | 5 | 0.05812192 | Preprocessor1_Model03 |\n",
       "| ⋮ | ⋮ | ⋮ | ⋮ | ⋮ | ⋮ | ⋮ |\n",
       "| 86 | accuracy | multiclass | 0.10766917 | 5 | 0.03883188 | Preprocessor1_Model18 |\n",
       "| 91 | accuracy | multiclass | 0.08909774 | 5 | 0.04296272 | Preprocessor1_Model19 |\n",
       "| 96 | accuracy | multiclass | 0.11814536 | 5 | 0.04657607 | Preprocessor1_Model20 |\n",
       "\n"
      ],
      "text/plain": [
       "   neighbors .metric  .estimator mean       n std_err    .config              \n",
       "1   1        accuracy multiclass 0.5651128  5 0.05778073 Preprocessor1_Model01\n",
       "2   6        accuracy multiclass 0.2324812  5 0.03890751 Preprocessor1_Model02\n",
       "3  11        accuracy multiclass 0.1834336  5 0.05812192 Preprocessor1_Model03\n",
       "⋮  ⋮         ⋮        ⋮          ⋮          ⋮ ⋮          ⋮                    \n",
       "18 86        accuracy multiclass 0.10766917 5 0.03883188 Preprocessor1_Model18\n",
       "19 91        accuracy multiclass 0.08909774 5 0.04296272 Preprocessor1_Model19\n",
       "20 96        accuracy multiclass 0.11814536 5 0.04657607 Preprocessor1_Model20"
      ]
     },
     "metadata": {},
     "output_type": "display_data"
    }
   ],
   "source": [
    "accuracies <- knn_results |> filter(.metric == \"accuracy\")\n",
    "accuracies"
   ]
  },
  {
   "cell_type": "code",
   "execution_count": 16,
   "id": "119b0610-f001-46fe-84b4-e63132e737f8",
   "metadata": {},
   "outputs": [
    {
     "data": {
      "image/png": "[encoded data removed]",
      "text/plain": [
       "plot without title"
      ]
     },
     "metadata": {
      "image/png": {
       "height": 480,
       "width": 480
      }
     },
     "output_type": "display_data"
    }
   ],
   "source": [
    "accuracies_plot <- accuracies |> ggplot(aes(x = mean, y = neighbors)) +\n",
    "                                 labs(x = \"Accuracy\", y = \"Number of neighbors\") +\n",
    "                                 geom_point() +\n",
    "                                 geom_line()\n",
    "\n",
    "accuracies_plot"
   ]
  },
  {
   "cell_type": "markdown",
   "id": "872bfde6-e86f-41e0-8df9-faf497a7bf09",
   "metadata": {},
   "source": [
    "#### RESULTS"
   ]
  },
  {
   "cell_type": "markdown",
   "id": "b0975b0b-d4d3-4b9e-aabe-9b8914dd54d3",
   "metadata": {},
   "source": [
    "### DISCUSSION"
   ]
  },
  {
   "cell_type": "markdown",
   "id": "17f99b83-fa98-42fd-a51b-d72236dbe5db",
   "metadata": {},
   "source": [
    "### REFERENCES"
   ]
  },
  {
   "cell_type": "markdown",
   "id": "5603c1c9-8e64-48bb-81e7-7931287db9c7",
   "metadata": {},
   "source": [
    "Data set source : (https://www.kaggle.com/datasets/cherngs/heart-disease-cleveland-uci?resource=download)"
   ]
  },
  {
   "cell_type": "code",
   "execution_count": null,
   "id": "2e4e710e-058b-46cb-ac19-c8fa9e6528c8",
   "metadata": {},
   "outputs": [],
   "source": []
  }
 ],
 "metadata": {
  "kernelspec": {
   "display_name": "R",
   "language": "R",
   "name": "ir"
  },
  "language_info": {
   "codemirror_mode": "r",
   "file_extension": ".r",
   "mimetype": "text/x-r-source",
   "name": "R",
   "pygments_lexer": "r",
   "version": "4.1.3"
  }
 },
 "nbformat": 4,
 "nbformat_minor": 5
}

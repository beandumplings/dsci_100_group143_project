{
 "cells": [
  {
   "cell_type": "markdown",
   "id": "cfd3bf85-0b09-4db1-80a3-d3445d7ebdc0",
   "metadata": {},
   "source": [
    "# Predicting Chest Pain Type for Heart Disease Patients  based on their Resting Blood Pressure and Cholesterol Level"
   ]
  },
  {
   "cell_type": "markdown",
   "id": "3b6c2d60-6dcb-4c59-b157-8b19633cec40",
   "metadata": {},
   "source": [
    "## Introduction"
   ]
  },
  {
   "cell_type": "markdown",
   "id": "c6f38069-f8d1-4382-8851-0f02f137d7d6",
   "metadata": {},
   "source": [
    "#### Background Information\n",
    "Chest pain (angina)¹ is the most obvious symptom of heart disease. High cholesterol and high blood pressure are major factors that induce chest pain because both affect coronary arteries that supply the heart with blood.\n",
    "\n",
    "Research has shown that high cholesterol causes accumulation on the artery walls, further reduces artery blood flow, and causes complications like chest pain². Also, high blood pressure damages arteries by reducing elasticity, which decreases blood and oxygen flow to the heart, and leads to chest pain³. \n",
    "\n",
    "Scientists define cholesterol level above 240 mg/dl as high and dangerous⁴, and systolic pressure (artery pressure when heart beats) above 130mmHg as hypertension³. Blood pressure in this project is systolic pressure.\n",
    "\n",
    "\n",
    "#### Dataset Description + Question we try to answer\n",
    "In our project, we use the Cleveland database in the UCI Heart Disease Data Set ([Kaggle link to dataset](https://www.kaggle.com/datasets/cherngs/heart-disease-cleveland-uci?resource=download)). It contains 14 attributes and information supported by Cleveland Clinic Foundation. We aim to predict chest pain type for heart disease patients from their blood pressure and cholesterol values."
   ]
  },
  {
   "cell_type": "code",
   "execution_count": 1,
   "id": "7f5fb015-c99f-4f61-8dcc-381bab23ac2e",
   "metadata": {},
   "outputs": [],
   "source": [
    "### UNCOMMENT WHEN RUNNING THIS NOTEBOOK FOR THE FIRST TIME, THEN COMMENT AGAIN TO SAVE TIME\n",
    "#install.packages(\"themis\")"
   ]
  },
  {
   "cell_type": "code",
   "execution_count": 2,
   "id": "fa166b94-fa95-41f9-b501-2e71b5b17000",
   "metadata": {},
   "outputs": [
    {
     "name": "stderr",
     "output_type": "stream",
     "text": [
      "── \u001b[1mAttaching packages\u001b[22m ─────────────────────────────────────── tidyverse 1.3.1 ──\n",
      "\n",
      "\u001b[32m✔\u001b[39m \u001b[34mggplot2\u001b[39m 3.3.6     \u001b[32m✔\u001b[39m \u001b[34mpurrr  \u001b[39m 0.3.4\n",
      "\u001b[32m✔\u001b[39m \u001b[34mtibble \u001b[39m 3.1.7     \u001b[32m✔\u001b[39m \u001b[34mdplyr  \u001b[39m 1.0.9\n",
      "\u001b[32m✔\u001b[39m \u001b[34mtidyr  \u001b[39m 1.2.0     \u001b[32m✔\u001b[39m \u001b[34mstringr\u001b[39m 1.4.0\n",
      "\u001b[32m✔\u001b[39m \u001b[34mreadr  \u001b[39m 2.1.2     \u001b[32m✔\u001b[39m \u001b[34mforcats\u001b[39m 0.5.1\n",
      "\n",
      "── \u001b[1mConflicts\u001b[22m ────────────────────────────────────────── tidyverse_conflicts() ──\n",
      "\u001b[31m✖\u001b[39m \u001b[34mdplyr\u001b[39m::\u001b[32mfilter()\u001b[39m masks \u001b[34mstats\u001b[39m::filter()\n",
      "\u001b[31m✖\u001b[39m \u001b[34mdplyr\u001b[39m::\u001b[32mlag()\u001b[39m    masks \u001b[34mstats\u001b[39m::lag()\n",
      "\n",
      "── \u001b[1mAttaching packages\u001b[22m ────────────────────────────────────── tidymodels 1.0.0 ──\n",
      "\n",
      "\u001b[32m✔\u001b[39m \u001b[34mbroom       \u001b[39m 1.0.0     \u001b[32m✔\u001b[39m \u001b[34mrsample     \u001b[39m 1.0.0\n",
      "\u001b[32m✔\u001b[39m \u001b[34mdials       \u001b[39m 1.0.0     \u001b[32m✔\u001b[39m \u001b[34mtune        \u001b[39m 1.0.0\n",
      "\u001b[32m✔\u001b[39m \u001b[34minfer       \u001b[39m 1.0.2     \u001b[32m✔\u001b[39m \u001b[34mworkflows   \u001b[39m 1.0.0\n",
      "\u001b[32m✔\u001b[39m \u001b[34mmodeldata   \u001b[39m 1.0.0     \u001b[32m✔\u001b[39m \u001b[34mworkflowsets\u001b[39m 1.0.0\n",
      "\u001b[32m✔\u001b[39m \u001b[34mparsnip     \u001b[39m 1.0.0     \u001b[32m✔\u001b[39m \u001b[34myardstick   \u001b[39m 1.0.0\n",
      "\u001b[32m✔\u001b[39m \u001b[34mrecipes     \u001b[39m 1.0.1     \n",
      "\n",
      "── \u001b[1mConflicts\u001b[22m ───────────────────────────────────────── tidymodels_conflicts() ──\n",
      "\u001b[31m✖\u001b[39m \u001b[34mscales\u001b[39m::\u001b[32mdiscard()\u001b[39m masks \u001b[34mpurrr\u001b[39m::discard()\n",
      "\u001b[31m✖\u001b[39m \u001b[34mdplyr\u001b[39m::\u001b[32mfilter()\u001b[39m   masks \u001b[34mstats\u001b[39m::filter()\n",
      "\u001b[31m✖\u001b[39m \u001b[34mrecipes\u001b[39m::\u001b[32mfixed()\u001b[39m  masks \u001b[34mstringr\u001b[39m::fixed()\n",
      "\u001b[31m✖\u001b[39m \u001b[34mdplyr\u001b[39m::\u001b[32mlag()\u001b[39m      masks \u001b[34mstats\u001b[39m::lag()\n",
      "\u001b[31m✖\u001b[39m \u001b[34myardstick\u001b[39m::\u001b[32mspec()\u001b[39m masks \u001b[34mreadr\u001b[39m::spec()\n",
      "\u001b[31m✖\u001b[39m \u001b[34mrecipes\u001b[39m::\u001b[32mstep()\u001b[39m   masks \u001b[34mstats\u001b[39m::step()\n",
      "\u001b[34m•\u001b[39m Learn how to get started at \u001b[32mhttps://www.tidymodels.org/start/\u001b[39m\n",
      "\n",
      "Registered S3 method overwritten by 'GGally':\n",
      "  method from   \n",
      "  +.gg   ggplot2\n",
      "\n"
     ]
    }
   ],
   "source": [
    "### Run this cell before continuing.\n",
    "library(tidyverse)\n",
    "library(repr)\n",
    "library(tidymodels)\n",
    "library(dplyr)\n",
    "library(themis)\n",
    "library(GGally)\n",
    "library(ISLR)\n",
    "options(repr.matrix.max.rows = 6)\n",
    "### Also set the seed\n",
    "set.seed(2022)"
   ]
  },
  {
   "cell_type": "markdown",
   "id": "c274bb79-1b04-4ddc-ba2e-e0a8ab2855aa",
   "metadata": {},
   "source": [
    "### METHOD & RESULTS"
   ]
  },
  {
   "cell_type": "markdown",
   "id": "f0d35fef-a38b-440d-b57f-05f71e7d7343",
   "metadata": {},
   "source": [
    "#### EXPLORATORY DATA ANALYSIS"
   ]
  },
  {
   "cell_type": "markdown",
   "id": "6770ea54-d4d0-47e6-a3b7-ef6db51843f5",
   "metadata": {},
   "source": [
    "The original data set has 14 columns, which contains information about the patient's chest pain type along with other heart data. After our preliminary data analysis, we have decided that there are 4 columns that are relevant to our question. The following 4 columns and their definition (according to the website) are:\n",
    "1. **cp**: Patient's chest pain type:\n",
    "    - 0: typical angina\n",
    "    - 1: atypical angina\n",
    "    - 2: non-anginal pain\n",
    "    - 3: asymptomatic\n",
    "2. **trestbps**: Patient's resting blood pressure (in mmHg on admission to the hospital).\n",
    "3. **chol**: Patient's serum cholesterol in mg/dl.\n",
    "4. **condition**: Patient has heart disease (0 = no disease, 1 = disease)."
   ]
  },
  {
   "cell_type": "code",
   "execution_count": 3,
   "id": "22610ccd-8b74-4eaa-bb51-88cf566ddec5",
   "metadata": {},
   "outputs": [
    {
     "name": "stderr",
     "output_type": "stream",
     "text": [
      "\u001b[1mRows: \u001b[22m\u001b[34m297\u001b[39m \u001b[1mColumns: \u001b[22m\u001b[34m14\u001b[39m\n",
      "\u001b[36m──\u001b[39m \u001b[1mColumn specification\u001b[22m \u001b[36m────────────────────────────────────────────────────────\u001b[39m\n",
      "\u001b[1mDelimiter:\u001b[22m \",\"\n",
      "\u001b[32mdbl\u001b[39m (14): age, sex, cp, trestbps, chol, fbs, restecg, thalach, exang, oldpea...\n",
      "\n",
      "\u001b[36mℹ\u001b[39m Use `spec()` to retrieve the full column specification for this data.\n",
      "\u001b[36mℹ\u001b[39m Specify the column types or set `show_col_types = FALSE` to quiet this message.\n"
     ]
    }
   ],
   "source": [
    "set.seed(2022)\n",
    "### Code block\n",
    "# Loading data\n",
    "heart_cleveland_data <- read_csv(\"https://raw.githubusercontent.com/soph-ien/dsci_100_group143_project/main/heart_cleveland_upload.csv\") |> \n",
    "                        mutate(across(c(sex:cp, fbs:restecg, exang, slope:condition), as_factor))\n",
    "\n",
    "# Filtering for people with a heart condition\n",
    "heart_cleveland_data_filter <- filter(heart_cleveland_data, condition == 1)\n",
    "\n",
    "# Spliting the data into training and test data\n",
    "heart_split <- initial_split(heart_cleveland_data_filter, prop = 0.75, strata = cp)\n",
    "heart_train <- training(heart_split)\n",
    "heart_test <- testing(heart_split)\n",
    "\n",
    "# Investigate the proportion of each cp types in the training data\n",
    "heart_proportion_train <- heart_train |> group_by(cp) |> summarize(n=n()) |> mutate(percent = 100*n/nrow(heart_train))\n",
    "\n",
    "# Investigate if there's any missing values\n",
    "heart_missing_data_train <- as_tibble(apply(heart_train, 2, is.na)) |> map_df(sum)\n",
    "\n",
    "# Plotting the distribution of resting blood pressure for each type of chest pain via histograms\n",
    "options(repr.plot.width = 8, repr.plot.height = 8) \n",
    "heart_train_cp_plot <- heart_train |> ggplot(aes(x = trestbps, fill = cp)) +\n",
    "                                        geom_histogram(bins = 25) +\n",
    "                                        labs(x = \"Resting blood pressure (mmHg)\", y = \"Number of patients\", fill = \"Chest pain type\", title = \"Distribution of trestbps among all patients\") +\n",
    "                                        theme(text = element_text(size = 15)) +\n",
    "                                        scale_x_continuous(breaks = seq(90, 200, by = 10))"
   ]
  },
  {
   "cell_type": "code",
   "execution_count": 4,
   "id": "8223bbfa-538a-4c99-b982-13232b587eb9",
   "metadata": {},
   "outputs": [
    {
     "data": {
      "text/html": [
       "'Cleveland UCI Heart data set for people with a heart condition'"
      ],
      "text/latex": [
       "'Cleveland UCI Heart data set for people with a heart condition'"
      ],
      "text/markdown": [
       "'Cleveland UCI Heart data set for people with a heart condition'"
      ],
      "text/plain": [
       "[1] \"Cleveland UCI Heart data set for people with a heart condition\""
      ]
     },
     "metadata": {},
     "output_type": "display_data"
    },
    {
     "data": {
      "text/html": [
       "<table class=\"dataframe\">\n",
       "<caption>A tibble: 137 × 14</caption>\n",
       "<thead>\n",
       "\t<tr><th scope=col>age</th><th scope=col>sex</th><th scope=col>cp</th><th scope=col>trestbps</th><th scope=col>chol</th><th scope=col>fbs</th><th scope=col>restecg</th><th scope=col>thalach</th><th scope=col>exang</th><th scope=col>oldpeak</th><th scope=col>slope</th><th scope=col>ca</th><th scope=col>thal</th><th scope=col>condition</th></tr>\n",
       "\t<tr><th scope=col>&lt;dbl&gt;</th><th scope=col>&lt;fct&gt;</th><th scope=col>&lt;fct&gt;</th><th scope=col>&lt;dbl&gt;</th><th scope=col>&lt;dbl&gt;</th><th scope=col>&lt;fct&gt;</th><th scope=col>&lt;fct&gt;</th><th scope=col>&lt;dbl&gt;</th><th scope=col>&lt;fct&gt;</th><th scope=col>&lt;dbl&gt;</th><th scope=col>&lt;fct&gt;</th><th scope=col>&lt;fct&gt;</th><th scope=col>&lt;fct&gt;</th><th scope=col>&lt;fct&gt;</th></tr>\n",
       "</thead>\n",
       "<tbody>\n",
       "\t<tr><td>65</td><td>1</td><td>0</td><td>138</td><td>282</td><td>1</td><td>2</td><td>174</td><td>0</td><td>1.4</td><td>1</td><td>1</td><td>0</td><td>1</td></tr>\n",
       "\t<tr><td>61</td><td>1</td><td>0</td><td>134</td><td>234</td><td>0</td><td>0</td><td>145</td><td>0</td><td>2.6</td><td>1</td><td>2</td><td>0</td><td>1</td></tr>\n",
       "\t<tr><td>59</td><td>1</td><td>0</td><td>170</td><td>288</td><td>0</td><td>2</td><td>159</td><td>0</td><td>0.2</td><td>1</td><td>0</td><td>2</td><td>1</td></tr>\n",
       "\t<tr><td>⋮</td><td>⋮</td><td>⋮</td><td>⋮</td><td>⋮</td><td>⋮</td><td>⋮</td><td>⋮</td><td>⋮</td><td>⋮</td><td>⋮</td><td>⋮</td><td>⋮</td><td>⋮</td></tr>\n",
       "\t<tr><td>39</td><td>1</td><td>3</td><td>118</td><td>219</td><td>0</td><td>0</td><td>140</td><td>0</td><td>1.2</td><td>1</td><td>0</td><td>2</td><td>1</td></tr>\n",
       "\t<tr><td>35</td><td>1</td><td>3</td><td>120</td><td>198</td><td>0</td><td>0</td><td>130</td><td>1</td><td>1.6</td><td>1</td><td>0</td><td>2</td><td>1</td></tr>\n",
       "\t<tr><td>35</td><td>1</td><td>3</td><td>126</td><td>282</td><td>0</td><td>2</td><td>156</td><td>1</td><td>0.0</td><td>0</td><td>0</td><td>2</td><td>1</td></tr>\n",
       "</tbody>\n",
       "</table>\n"
      ],
      "text/latex": [
       "A tibble: 137 × 14\n",
       "\\begin{tabular}{llllllllllllll}\n",
       " age & sex & cp & trestbps & chol & fbs & restecg & thalach & exang & oldpeak & slope & ca & thal & condition\\\\\n",
       " <dbl> & <fct> & <fct> & <dbl> & <dbl> & <fct> & <fct> & <dbl> & <fct> & <dbl> & <fct> & <fct> & <fct> & <fct>\\\\\n",
       "\\hline\n",
       "\t 65 & 1 & 0 & 138 & 282 & 1 & 2 & 174 & 0 & 1.4 & 1 & 1 & 0 & 1\\\\\n",
       "\t 61 & 1 & 0 & 134 & 234 & 0 & 0 & 145 & 0 & 2.6 & 1 & 2 & 0 & 1\\\\\n",
       "\t 59 & 1 & 0 & 170 & 288 & 0 & 2 & 159 & 0 & 0.2 & 1 & 0 & 2 & 1\\\\\n",
       "\t ⋮ & ⋮ & ⋮ & ⋮ & ⋮ & ⋮ & ⋮ & ⋮ & ⋮ & ⋮ & ⋮ & ⋮ & ⋮ & ⋮\\\\\n",
       "\t 39 & 1 & 3 & 118 & 219 & 0 & 0 & 140 & 0 & 1.2 & 1 & 0 & 2 & 1\\\\\n",
       "\t 35 & 1 & 3 & 120 & 198 & 0 & 0 & 130 & 1 & 1.6 & 1 & 0 & 2 & 1\\\\\n",
       "\t 35 & 1 & 3 & 126 & 282 & 0 & 2 & 156 & 1 & 0.0 & 0 & 0 & 2 & 1\\\\\n",
       "\\end{tabular}\n"
      ],
      "text/markdown": [
       "\n",
       "A tibble: 137 × 14\n",
       "\n",
       "| age &lt;dbl&gt; | sex &lt;fct&gt; | cp &lt;fct&gt; | trestbps &lt;dbl&gt; | chol &lt;dbl&gt; | fbs &lt;fct&gt; | restecg &lt;fct&gt; | thalach &lt;dbl&gt; | exang &lt;fct&gt; | oldpeak &lt;dbl&gt; | slope &lt;fct&gt; | ca &lt;fct&gt; | thal &lt;fct&gt; | condition &lt;fct&gt; |\n",
       "|---|---|---|---|---|---|---|---|---|---|---|---|---|---|\n",
       "| 65 | 1 | 0 | 138 | 282 | 1 | 2 | 174 | 0 | 1.4 | 1 | 1 | 0 | 1 |\n",
       "| 61 | 1 | 0 | 134 | 234 | 0 | 0 | 145 | 0 | 2.6 | 1 | 2 | 0 | 1 |\n",
       "| 59 | 1 | 0 | 170 | 288 | 0 | 2 | 159 | 0 | 0.2 | 1 | 0 | 2 | 1 |\n",
       "| ⋮ | ⋮ | ⋮ | ⋮ | ⋮ | ⋮ | ⋮ | ⋮ | ⋮ | ⋮ | ⋮ | ⋮ | ⋮ | ⋮ |\n",
       "| 39 | 1 | 3 | 118 | 219 | 0 | 0 | 140 | 0 | 1.2 | 1 | 0 | 2 | 1 |\n",
       "| 35 | 1 | 3 | 120 | 198 | 0 | 0 | 130 | 1 | 1.6 | 1 | 0 | 2 | 1 |\n",
       "| 35 | 1 | 3 | 126 | 282 | 0 | 2 | 156 | 1 | 0.0 | 0 | 0 | 2 | 1 |\n",
       "\n"
      ],
      "text/plain": [
       "    age sex cp trestbps chol fbs restecg thalach exang oldpeak slope ca thal\n",
       "1   65  1   0  138      282  1   2       174     0     1.4     1     1  0   \n",
       "2   61  1   0  134      234  0   0       145     0     2.6     1     2  0   \n",
       "3   59  1   0  170      288  0   2       159     0     0.2     1     0  2   \n",
       "⋮   ⋮   ⋮   ⋮  ⋮        ⋮    ⋮   ⋮       ⋮       ⋮     ⋮       ⋮     ⋮  ⋮   \n",
       "135 39  1   3  118      219  0   0       140     0     1.2     1     0  2   \n",
       "136 35  1   3  120      198  0   0       130     1     1.6     1     0  2   \n",
       "137 35  1   3  126      282  0   2       156     1     0.0     0     0  2   \n",
       "    condition\n",
       "1   1        \n",
       "2   1        \n",
       "3   1        \n",
       "⋮   ⋮        \n",
       "135 1        \n",
       "136 1        \n",
       "137 1        "
      ]
     },
     "metadata": {},
     "output_type": "display_data"
    },
    {
     "data": {
      "text/html": [
       "'Chest pain type (cp) proportion'"
      ],
      "text/latex": [
       "'Chest pain type (cp) proportion'"
      ],
      "text/markdown": [
       "'Chest pain type (cp) proportion'"
      ],
      "text/plain": [
       "[1] \"Chest pain type (cp) proportion\""
      ]
     },
     "metadata": {},
     "output_type": "display_data"
    },
    {
     "data": {
      "text/html": [
       "<table class=\"dataframe\">\n",
       "<caption>A tibble: 4 × 3</caption>\n",
       "<thead>\n",
       "\t<tr><th scope=col>cp</th><th scope=col>n</th><th scope=col>percent</th></tr>\n",
       "\t<tr><th scope=col>&lt;fct&gt;</th><th scope=col>&lt;int&gt;</th><th scope=col>&lt;dbl&gt;</th></tr>\n",
       "</thead>\n",
       "<tbody>\n",
       "\t<tr><td>0</td><td> 7</td><td> 6.862745</td></tr>\n",
       "\t<tr><td>1</td><td> 6</td><td> 5.882353</td></tr>\n",
       "\t<tr><td>2</td><td>13</td><td>12.745098</td></tr>\n",
       "\t<tr><td>3</td><td>76</td><td>74.509804</td></tr>\n",
       "</tbody>\n",
       "</table>\n"
      ],
      "text/latex": [
       "A tibble: 4 × 3\n",
       "\\begin{tabular}{lll}\n",
       " cp & n & percent\\\\\n",
       " <fct> & <int> & <dbl>\\\\\n",
       "\\hline\n",
       "\t 0 &  7 &  6.862745\\\\\n",
       "\t 1 &  6 &  5.882353\\\\\n",
       "\t 2 & 13 & 12.745098\\\\\n",
       "\t 3 & 76 & 74.509804\\\\\n",
       "\\end{tabular}\n"
      ],
      "text/markdown": [
       "\n",
       "A tibble: 4 × 3\n",
       "\n",
       "| cp &lt;fct&gt; | n &lt;int&gt; | percent &lt;dbl&gt; |\n",
       "|---|---|---|\n",
       "| 0 |  7 |  6.862745 |\n",
       "| 1 |  6 |  5.882353 |\n",
       "| 2 | 13 | 12.745098 |\n",
       "| 3 | 76 | 74.509804 |\n",
       "\n"
      ],
      "text/plain": [
       "  cp n  percent  \n",
       "1 0   7  6.862745\n",
       "2 1   6  5.882353\n",
       "3 2  13 12.745098\n",
       "4 3  76 74.509804"
      ]
     },
     "metadata": {},
     "output_type": "display_data"
    },
    {
     "data": {
      "text/html": [
       "'Number of missing data'"
      ],
      "text/latex": [
       "'Number of missing data'"
      ],
      "text/markdown": [
       "'Number of missing data'"
      ],
      "text/plain": [
       "[1] \"Number of missing data\""
      ]
     },
     "metadata": {},
     "output_type": "display_data"
    },
    {
     "data": {
      "text/html": [
       "<table class=\"dataframe\">\n",
       "<caption>A tibble: 1 × 14</caption>\n",
       "<thead>\n",
       "\t<tr><th scope=col>age</th><th scope=col>sex</th><th scope=col>cp</th><th scope=col>trestbps</th><th scope=col>chol</th><th scope=col>fbs</th><th scope=col>restecg</th><th scope=col>thalach</th><th scope=col>exang</th><th scope=col>oldpeak</th><th scope=col>slope</th><th scope=col>ca</th><th scope=col>thal</th><th scope=col>condition</th></tr>\n",
       "\t<tr><th scope=col>&lt;int&gt;</th><th scope=col>&lt;int&gt;</th><th scope=col>&lt;int&gt;</th><th scope=col>&lt;int&gt;</th><th scope=col>&lt;int&gt;</th><th scope=col>&lt;int&gt;</th><th scope=col>&lt;int&gt;</th><th scope=col>&lt;int&gt;</th><th scope=col>&lt;int&gt;</th><th scope=col>&lt;int&gt;</th><th scope=col>&lt;int&gt;</th><th scope=col>&lt;int&gt;</th><th scope=col>&lt;int&gt;</th><th scope=col>&lt;int&gt;</th></tr>\n",
       "</thead>\n",
       "<tbody>\n",
       "\t<tr><td>0</td><td>0</td><td>0</td><td>0</td><td>0</td><td>0</td><td>0</td><td>0</td><td>0</td><td>0</td><td>0</td><td>0</td><td>0</td><td>0</td></tr>\n",
       "</tbody>\n",
       "</table>\n"
      ],
      "text/latex": [
       "A tibble: 1 × 14\n",
       "\\begin{tabular}{llllllllllllll}\n",
       " age & sex & cp & trestbps & chol & fbs & restecg & thalach & exang & oldpeak & slope & ca & thal & condition\\\\\n",
       " <int> & <int> & <int> & <int> & <int> & <int> & <int> & <int> & <int> & <int> & <int> & <int> & <int> & <int>\\\\\n",
       "\\hline\n",
       "\t 0 & 0 & 0 & 0 & 0 & 0 & 0 & 0 & 0 & 0 & 0 & 0 & 0 & 0\\\\\n",
       "\\end{tabular}\n"
      ],
      "text/markdown": [
       "\n",
       "A tibble: 1 × 14\n",
       "\n",
       "| age &lt;int&gt; | sex &lt;int&gt; | cp &lt;int&gt; | trestbps &lt;int&gt; | chol &lt;int&gt; | fbs &lt;int&gt; | restecg &lt;int&gt; | thalach &lt;int&gt; | exang &lt;int&gt; | oldpeak &lt;int&gt; | slope &lt;int&gt; | ca &lt;int&gt; | thal &lt;int&gt; | condition &lt;int&gt; |\n",
       "|---|---|---|---|---|---|---|---|---|---|---|---|---|---|\n",
       "| 0 | 0 | 0 | 0 | 0 | 0 | 0 | 0 | 0 | 0 | 0 | 0 | 0 | 0 |\n",
       "\n"
      ],
      "text/plain": [
       "  age sex cp trestbps chol fbs restecg thalach exang oldpeak slope ca thal\n",
       "1 0   0   0  0        0    0   0       0       0     0       0     0  0   \n",
       "  condition\n",
       "1 0        "
      ]
     },
     "metadata": {},
     "output_type": "display_data"
    },
    {
     "data": {
      "image/png": "[encoded data removed]",
      "text/plain": [
       "plot without title"
      ]
     },
     "metadata": {
      "image/png": {
       "height": 480,
       "width": 480
      }
     },
     "output_type": "display_data"
    }
   ],
   "source": [
    "### Load block\n",
    "paste(\"Cleveland UCI Heart data set for people with a heart condition\")\n",
    "heart_cleveland_data_filter\n",
    "\n",
    "paste(\"Chest pain type (cp) proportion\")\n",
    "heart_proportion_train\n",
    "\n",
    "paste(\"Number of missing data\")\n",
    "heart_missing_data_train\n",
    "\n",
    "heart_train_cp_plot"
   ]
  },
  {
   "cell_type": "markdown",
   "id": "5f4edb8c-d3e6-4564-902d-08bc9c4ce795",
   "metadata": {},
   "source": [
    "##### ***SUMMARY OF EXPLORATORY DATA ANALYSIS***:"
   ]
  },
  {
   "cell_type": "markdown",
   "id": "039909d4-57a0-429d-bb6c-c3a09ef6d9cc",
   "metadata": {},
   "source": [
    "In our training data, most patients have type 3 chest pain (asymptomatic, 74.51%), followed by type 2 (non-anginal pain, 12.75%), then type 0 (typical angina, 6.86%) and finally type 1 (atypical angina, 5.88% ). There is an imbalance in the distribution for chest pain type, so we need to balance them before we start our classification. Next, we examine the presence of missing values in the training set. Results show there are no missing values, so no further steps are needed to remove them.\n",
    "\n",
    "Lastly, to visualize patients number and their resting blood pressure (testpbs), we create a histogram with trestbps on x-axis and number of patients on y-axis. We color the chest pain type to emphasize the distribution across various values of RBP. From the histogram, most heart disease patients have RBP ranging from 110 to 150 mmHg. We also found the number of asymptomatic chest pain patients are broadly spread out with a range of 110-170 mmHg."
   ]
  },
  {
   "cell_type": "markdown",
   "id": "4882e0ab-2d79-4acf-bba2-9d528200c15c",
   "metadata": {},
   "source": [
    "#### METHOD"
   ]
  },
  {
   "cell_type": "markdown",
   "id": "6c7458de-8885-41a4-b2e0-e5e23c5133b1",
   "metadata": {},
   "source": [
    "Explanation leading to making upscale recipe here"
   ]
  },
  {
   "cell_type": "code",
   "execution_count": 5,
   "id": "8116c263-c098-488b-aa10-683585188d85",
   "metadata": {},
   "outputs": [
    {
     "data": {
      "text/html": [
       "'Cleveland UCI Heart data set for people with a heart condition (upscaled)'"
      ],
      "text/latex": [
       "'Cleveland UCI Heart data set for people with a heart condition (upscaled)'"
      ],
      "text/markdown": [
       "'Cleveland UCI Heart data set for people with a heart condition (upscaled)'"
      ],
      "text/plain": [
       "[1] \"Cleveland UCI Heart data set for people with a heart condition (upscaled)\""
      ]
     },
     "metadata": {},
     "output_type": "display_data"
    },
    {
     "data": {
      "text/html": [
       "<table class=\"dataframe\">\n",
       "<caption>A tibble: 304 × 14</caption>\n",
       "<thead>\n",
       "\t<tr><th scope=col>age</th><th scope=col>sex</th><th scope=col>trestbps</th><th scope=col>chol</th><th scope=col>fbs</th><th scope=col>restecg</th><th scope=col>thalach</th><th scope=col>exang</th><th scope=col>oldpeak</th><th scope=col>slope</th><th scope=col>ca</th><th scope=col>thal</th><th scope=col>condition</th><th scope=col>cp</th></tr>\n",
       "\t<tr><th scope=col>&lt;dbl&gt;</th><th scope=col>&lt;fct&gt;</th><th scope=col>&lt;dbl&gt;</th><th scope=col>&lt;dbl&gt;</th><th scope=col>&lt;fct&gt;</th><th scope=col>&lt;fct&gt;</th><th scope=col>&lt;dbl&gt;</th><th scope=col>&lt;fct&gt;</th><th scope=col>&lt;dbl&gt;</th><th scope=col>&lt;fct&gt;</th><th scope=col>&lt;fct&gt;</th><th scope=col>&lt;fct&gt;</th><th scope=col>&lt;fct&gt;</th><th scope=col>&lt;fct&gt;</th></tr>\n",
       "</thead>\n",
       "<tbody>\n",
       "\t<tr><td>59</td><td>1</td><td>134</td><td>204</td><td>0</td><td>0</td><td>162</td><td>0</td><td>0.8</td><td>0</td><td>2</td><td>0</td><td>1</td><td>0</td></tr>\n",
       "\t<tr><td>65</td><td>1</td><td>138</td><td>282</td><td>1</td><td>2</td><td>174</td><td>0</td><td>1.4</td><td>1</td><td>1</td><td>0</td><td>1</td><td>0</td></tr>\n",
       "\t<tr><td>45</td><td>1</td><td>110</td><td>264</td><td>0</td><td>0</td><td>132</td><td>0</td><td>1.2</td><td>1</td><td>0</td><td>2</td><td>1</td><td>0</td></tr>\n",
       "\t<tr><td>⋮</td><td>⋮</td><td>⋮</td><td>⋮</td><td>⋮</td><td>⋮</td><td>⋮</td><td>⋮</td><td>⋮</td><td>⋮</td><td>⋮</td><td>⋮</td><td>⋮</td><td>⋮</td></tr>\n",
       "\t<tr><td>40</td><td>1</td><td>110</td><td>167</td><td>0</td><td>2</td><td>114</td><td>1</td><td>2.0</td><td>1</td><td>0</td><td>2</td><td>1</td><td>3</td></tr>\n",
       "\t<tr><td>39</td><td>1</td><td>118</td><td>219</td><td>0</td><td>0</td><td>140</td><td>0</td><td>1.2</td><td>1</td><td>0</td><td>2</td><td>1</td><td>3</td></tr>\n",
       "\t<tr><td>35</td><td>1</td><td>120</td><td>198</td><td>0</td><td>0</td><td>130</td><td>1</td><td>1.6</td><td>1</td><td>0</td><td>2</td><td>1</td><td>3</td></tr>\n",
       "</tbody>\n",
       "</table>\n"
      ],
      "text/latex": [
       "A tibble: 304 × 14\n",
       "\\begin{tabular}{llllllllllllll}\n",
       " age & sex & trestbps & chol & fbs & restecg & thalach & exang & oldpeak & slope & ca & thal & condition & cp\\\\\n",
       " <dbl> & <fct> & <dbl> & <dbl> & <fct> & <fct> & <dbl> & <fct> & <dbl> & <fct> & <fct> & <fct> & <fct> & <fct>\\\\\n",
       "\\hline\n",
       "\t 59 & 1 & 134 & 204 & 0 & 0 & 162 & 0 & 0.8 & 0 & 2 & 0 & 1 & 0\\\\\n",
       "\t 65 & 1 & 138 & 282 & 1 & 2 & 174 & 0 & 1.4 & 1 & 1 & 0 & 1 & 0\\\\\n",
       "\t 45 & 1 & 110 & 264 & 0 & 0 & 132 & 0 & 1.2 & 1 & 0 & 2 & 1 & 0\\\\\n",
       "\t ⋮ & ⋮ & ⋮ & ⋮ & ⋮ & ⋮ & ⋮ & ⋮ & ⋮ & ⋮ & ⋮ & ⋮ & ⋮ & ⋮\\\\\n",
       "\t 40 & 1 & 110 & 167 & 0 & 2 & 114 & 1 & 2.0 & 1 & 0 & 2 & 1 & 3\\\\\n",
       "\t 39 & 1 & 118 & 219 & 0 & 0 & 140 & 0 & 1.2 & 1 & 0 & 2 & 1 & 3\\\\\n",
       "\t 35 & 1 & 120 & 198 & 0 & 0 & 130 & 1 & 1.6 & 1 & 0 & 2 & 1 & 3\\\\\n",
       "\\end{tabular}\n"
      ],
      "text/markdown": [
       "\n",
       "A tibble: 304 × 14\n",
       "\n",
       "| age &lt;dbl&gt; | sex &lt;fct&gt; | trestbps &lt;dbl&gt; | chol &lt;dbl&gt; | fbs &lt;fct&gt; | restecg &lt;fct&gt; | thalach &lt;dbl&gt; | exang &lt;fct&gt; | oldpeak &lt;dbl&gt; | slope &lt;fct&gt; | ca &lt;fct&gt; | thal &lt;fct&gt; | condition &lt;fct&gt; | cp &lt;fct&gt; |\n",
       "|---|---|---|---|---|---|---|---|---|---|---|---|---|---|\n",
       "| 59 | 1 | 134 | 204 | 0 | 0 | 162 | 0 | 0.8 | 0 | 2 | 0 | 1 | 0 |\n",
       "| 65 | 1 | 138 | 282 | 1 | 2 | 174 | 0 | 1.4 | 1 | 1 | 0 | 1 | 0 |\n",
       "| 45 | 1 | 110 | 264 | 0 | 0 | 132 | 0 | 1.2 | 1 | 0 | 2 | 1 | 0 |\n",
       "| ⋮ | ⋮ | ⋮ | ⋮ | ⋮ | ⋮ | ⋮ | ⋮ | ⋮ | ⋮ | ⋮ | ⋮ | ⋮ | ⋮ |\n",
       "| 40 | 1 | 110 | 167 | 0 | 2 | 114 | 1 | 2.0 | 1 | 0 | 2 | 1 | 3 |\n",
       "| 39 | 1 | 118 | 219 | 0 | 0 | 140 | 0 | 1.2 | 1 | 0 | 2 | 1 | 3 |\n",
       "| 35 | 1 | 120 | 198 | 0 | 0 | 130 | 1 | 1.6 | 1 | 0 | 2 | 1 | 3 |\n",
       "\n"
      ],
      "text/plain": [
       "    age sex trestbps chol fbs restecg thalach exang oldpeak slope ca thal\n",
       "1   59  1   134      204  0   0       162     0     0.8     0     2  0   \n",
       "2   65  1   138      282  1   2       174     0     1.4     1     1  0   \n",
       "3   45  1   110      264  0   0       132     0     1.2     1     0  2   \n",
       "⋮   ⋮   ⋮   ⋮        ⋮    ⋮   ⋮       ⋮       ⋮     ⋮       ⋮     ⋮  ⋮   \n",
       "302 40  1   110      167  0   2       114     1     2.0     1     0  2   \n",
       "303 39  1   118      219  0   0       140     0     1.2     1     0  2   \n",
       "304 35  1   120      198  0   0       130     1     1.6     1     0  2   \n",
       "    condition cp\n",
       "1   1         0 \n",
       "2   1         0 \n",
       "3   1         0 \n",
       "⋮   ⋮         ⋮ \n",
       "302 1         3 \n",
       "303 1         3 \n",
       "304 1         3 "
      ]
     },
     "metadata": {},
     "output_type": "display_data"
    }
   ],
   "source": [
    "set.seed(2022)\n",
    "# upscaling, making this the new training data\n",
    "upscale_recipe <- recipe(cp ~ ., data = heart_train) |>\n",
    "                step_upsample(cp, over_ratio = 1, skip = FALSE) |> prep()\n",
    "upscaled_data <- upscale_recipe |> bake(heart_train)\n",
    "\n",
    "paste(\"Cleveland UCI Heart data set for people with a heart condition (upscaled)\")\n",
    "upscaled_data"
   ]
  },
  {
   "cell_type": "markdown",
   "id": "1fca3dc7-2f42-4ab5-9dce-76615c08bc4b",
   "metadata": {},
   "source": [
    "Explanation leading to workflow here"
   ]
  },
  {
   "cell_type": "code",
   "execution_count": 6,
   "id": "29a352c6-d45c-46de-b3bc-26d27e683780",
   "metadata": {},
   "outputs": [],
   "source": [
    "set.seed(2022)\n",
    "\n",
    "# declaration of the max value of neighbor\n",
    "max_neighbor_val = 20\n",
    "# create spec\n",
    "knn_spec <- nearest_neighbor(weight_func = \"rectangular\", neighbors = tune()) |>\n",
    "            set_engine(\"kknn\") |>\n",
    "            set_mode(\"classification\")\n",
    "\n",
    "# cross-validation, 5 folds\n",
    "heart_vfold <- vfold_cv(upscaled_data, v = 5, strata = cp)\n",
    "\n",
    "k_vals <- tibble(neighbors = seq(from = 1, to = max_neighbor_val))\n",
    "\n",
    "# create the centering / scaling recipe\n",
    "uc_recipe <- recipe(cp ~ trestbps + chol, data = upscaled_data) |>\n",
    "              step_scale(all_predictors()) |>\n",
    "              step_center(all_predictors())\n",
    "\n",
    "knn_results <- workflow() |>\n",
    "               add_recipe(uc_recipe) |>\n",
    "               add_model(knn_spec) |>\n",
    "               tune_grid(resamples = heart_vfold, grid = k_vals) |>\n",
    "               collect_metrics()"
   ]
  },
  {
   "cell_type": "markdown",
   "id": "5c7a7400-5333-4206-b6df-e50b96359475",
   "metadata": {},
   "source": [
    "Explanation leading to plotting accuracy graph here"
   ]
  },
  {
   "cell_type": "code",
   "execution_count": 7,
   "id": "119b0610-f001-46fe-84b4-e63132e737f8",
   "metadata": {},
   "outputs": [
    {
     "data": {
      "text/html": [
       "'Accuracy of model for k from 1 to 20'"
      ],
      "text/latex": [
       "'Accuracy of model for k from 1 to 20'"
      ],
      "text/markdown": [
       "'Accuracy of model for k from 1 to 20'"
      ],
      "text/plain": [
       "[1] \"Accuracy of model for k from 1 to 20\""
      ]
     },
     "metadata": {},
     "output_type": "display_data"
    },
    {
     "data": {
      "text/html": [
       "<table class=\"dataframe\">\n",
       "<caption>A tibble: 20 × 7</caption>\n",
       "<thead>\n",
       "\t<tr><th scope=col>neighbors</th><th scope=col>.metric</th><th scope=col>.estimator</th><th scope=col>mean</th><th scope=col>n</th><th scope=col>std_err</th><th scope=col>.config</th></tr>\n",
       "\t<tr><th scope=col>&lt;int&gt;</th><th scope=col>&lt;chr&gt;</th><th scope=col>&lt;chr&gt;</th><th scope=col>&lt;dbl&gt;</th><th scope=col>&lt;int&gt;</th><th scope=col>&lt;dbl&gt;</th><th scope=col>&lt;chr&gt;</th></tr>\n",
       "</thead>\n",
       "<tbody>\n",
       "\t<tr><td>1</td><td>accuracy</td><td>multiclass</td><td>0.9079167</td><td>5</td><td>0.01118810</td><td>Preprocessor1_Model01</td></tr>\n",
       "\t<tr><td>2</td><td>accuracy</td><td>multiclass</td><td>0.9045833</td><td>5</td><td>0.01103184</td><td>Preprocessor1_Model02</td></tr>\n",
       "\t<tr><td>3</td><td>accuracy</td><td>multiclass</td><td>0.8358333</td><td>5</td><td>0.01464866</td><td>Preprocessor1_Model03</td></tr>\n",
       "\t<tr><td>⋮</td><td>⋮</td><td>⋮</td><td>⋮</td><td>⋮</td><td>⋮</td><td>⋮</td></tr>\n",
       "\t<tr><td>18</td><td>accuracy</td><td>multiclass</td><td>0.6045833</td><td>5</td><td>0.02813966</td><td>Preprocessor1_Model18</td></tr>\n",
       "\t<tr><td>19</td><td>accuracy</td><td>multiclass</td><td>0.5664583</td><td>5</td><td>0.03214078</td><td>Preprocessor1_Model19</td></tr>\n",
       "\t<tr><td>20</td><td>accuracy</td><td>multiclass</td><td>0.5631250</td><td>5</td><td>0.03230779</td><td>Preprocessor1_Model20</td></tr>\n",
       "</tbody>\n",
       "</table>\n"
      ],
      "text/latex": [
       "A tibble: 20 × 7\n",
       "\\begin{tabular}{lllllll}\n",
       " neighbors & .metric & .estimator & mean & n & std\\_err & .config\\\\\n",
       " <int> & <chr> & <chr> & <dbl> & <int> & <dbl> & <chr>\\\\\n",
       "\\hline\n",
       "\t 1 & accuracy & multiclass & 0.9079167 & 5 & 0.01118810 & Preprocessor1\\_Model01\\\\\n",
       "\t 2 & accuracy & multiclass & 0.9045833 & 5 & 0.01103184 & Preprocessor1\\_Model02\\\\\n",
       "\t 3 & accuracy & multiclass & 0.8358333 & 5 & 0.01464866 & Preprocessor1\\_Model03\\\\\n",
       "\t ⋮ & ⋮ & ⋮ & ⋮ & ⋮ & ⋮ & ⋮\\\\\n",
       "\t 18 & accuracy & multiclass & 0.6045833 & 5 & 0.02813966 & Preprocessor1\\_Model18\\\\\n",
       "\t 19 & accuracy & multiclass & 0.5664583 & 5 & 0.03214078 & Preprocessor1\\_Model19\\\\\n",
       "\t 20 & accuracy & multiclass & 0.5631250 & 5 & 0.03230779 & Preprocessor1\\_Model20\\\\\n",
       "\\end{tabular}\n"
      ],
      "text/markdown": [
       "\n",
       "A tibble: 20 × 7\n",
       "\n",
       "| neighbors &lt;int&gt; | .metric &lt;chr&gt; | .estimator &lt;chr&gt; | mean &lt;dbl&gt; | n &lt;int&gt; | std_err &lt;dbl&gt; | .config &lt;chr&gt; |\n",
       "|---|---|---|---|---|---|---|\n",
       "| 1 | accuracy | multiclass | 0.9079167 | 5 | 0.01118810 | Preprocessor1_Model01 |\n",
       "| 2 | accuracy | multiclass | 0.9045833 | 5 | 0.01103184 | Preprocessor1_Model02 |\n",
       "| 3 | accuracy | multiclass | 0.8358333 | 5 | 0.01464866 | Preprocessor1_Model03 |\n",
       "| ⋮ | ⋮ | ⋮ | ⋮ | ⋮ | ⋮ | ⋮ |\n",
       "| 18 | accuracy | multiclass | 0.6045833 | 5 | 0.02813966 | Preprocessor1_Model18 |\n",
       "| 19 | accuracy | multiclass | 0.5664583 | 5 | 0.03214078 | Preprocessor1_Model19 |\n",
       "| 20 | accuracy | multiclass | 0.5631250 | 5 | 0.03230779 | Preprocessor1_Model20 |\n",
       "\n"
      ],
      "text/plain": [
       "   neighbors .metric  .estimator mean      n std_err    .config              \n",
       "1  1         accuracy multiclass 0.9079167 5 0.01118810 Preprocessor1_Model01\n",
       "2  2         accuracy multiclass 0.9045833 5 0.01103184 Preprocessor1_Model02\n",
       "3  3         accuracy multiclass 0.8358333 5 0.01464866 Preprocessor1_Model03\n",
       "⋮  ⋮         ⋮        ⋮          ⋮         ⋮ ⋮          ⋮                    \n",
       "18 18        accuracy multiclass 0.6045833 5 0.02813966 Preprocessor1_Model18\n",
       "19 19        accuracy multiclass 0.5664583 5 0.03214078 Preprocessor1_Model19\n",
       "20 20        accuracy multiclass 0.5631250 5 0.03230779 Preprocessor1_Model20"
      ]
     },
     "metadata": {},
     "output_type": "display_data"
    },
    {
     "data": {
      "image/png": "[encoded data removed]",
      "text/plain": [
       "plot without title"
      ]
     },
     "metadata": {
      "image/png": {
       "height": 480,
       "width": 480
      }
     },
     "output_type": "display_data"
    }
   ],
   "source": [
    "accuracies <- knn_results |> filter(.metric == \"accuracy\")\n",
    "\n",
    "\n",
    "accuracies_plot <- accuracies |> ggplot(aes(x = neighbors, y = mean)) +\n",
    "                                 labs(x = \"Number of neighbors\", y = \"Accuracy\", title = \"Accuracy of model for k from 1 to 20\") +\n",
    "                                 geom_point() +\n",
    "                                 geom_line() +\n",
    "                                 scale_x_continuous(breaks = 1:max_neighbor_val)\n",
    "paste(\"Accuracy of model for k from 1 to 20\")\n",
    "accuracies\n",
    "\n",
    "accuracies_plot"
   ]
  },
  {
   "cell_type": "markdown",
   "id": "1104b986-f144-42af-a222-cbae0a03a581",
   "metadata": {},
   "source": [
    "Explanation for choosing k = 4 go here"
   ]
  },
  {
   "cell_type": "code",
   "execution_count": 8,
   "id": "0e26f769-276a-47ad-82b5-1a33a4c3f3c1",
   "metadata": {},
   "outputs": [
    {
     "data": {
      "text/plain": [
       "══ Workflow [trained] ══════════════════════════════════════════════════════════\n",
       "\u001b[3mPreprocessor:\u001b[23m Recipe\n",
       "\u001b[3mModel:\u001b[23m nearest_neighbor()\n",
       "\n",
       "── Preprocessor ────────────────────────────────────────────────────────────────\n",
       "2 Recipe Steps\n",
       "\n",
       "• step_scale()\n",
       "• step_center()\n",
       "\n",
       "── Model ───────────────────────────────────────────────────────────────────────\n",
       "\n",
       "Call:\n",
       "kknn::train.kknn(formula = ..y ~ ., data = data, ks = min_rows(4,     data, 5), kernel = ~\"rectangular\")\n",
       "\n",
       "Type of response variable: nominal\n",
       "Minimal misclassification: 0.1907895\n",
       "Best kernel: rectangular\n",
       "Best k: 4"
      ]
     },
     "metadata": {},
     "output_type": "display_data"
    }
   ],
   "source": [
    "set.seed(2022)\n",
    "# Making final classifier\n",
    "knn_best_spec <- nearest_neighbor(weight_func = \"rectangular\", neighbors = 4) |>\n",
    "                 set_engine(\"kknn\") |>\n",
    "                 set_mode(\"classification\")\n",
    "\n",
    "knn_best_fit <- workflow() |>\n",
    "                add_recipe(uc_recipe) |>\n",
    "                add_model(knn_best_spec) |>\n",
    "                fit(data = upscaled_data)\n",
    "knn_best_fit\n"
   ]
  },
  {
   "cell_type": "markdown",
   "id": "ebef000c-605b-4b76-81c4-9328c4431e53",
   "metadata": {},
   "source": [
    "With the final classifier trained, we can see how well it is doing by predicting it on our test data, and get the accuracy of the model."
   ]
  },
  {
   "cell_type": "code",
   "execution_count": 9,
   "id": "ef623760-4a50-45c7-9825-b312ef72e3a3",
   "metadata": {},
   "outputs": [
    {
     "data": {
      "text/html": [
       "'Model accuracy metric'"
      ],
      "text/latex": [
       "'Model accuracy metric'"
      ],
      "text/markdown": [
       "'Model accuracy metric'"
      ],
      "text/plain": [
       "[1] \"Model accuracy metric\""
      ]
     },
     "metadata": {},
     "output_type": "display_data"
    },
    {
     "data": {
      "text/html": [
       "<table class=\"dataframe\">\n",
       "<caption>A tibble: 1 × 3</caption>\n",
       "<thead>\n",
       "\t<tr><th scope=col>.metric</th><th scope=col>.estimator</th><th scope=col>.estimate</th></tr>\n",
       "\t<tr><th scope=col>&lt;chr&gt;</th><th scope=col>&lt;chr&gt;</th><th scope=col>&lt;dbl&gt;</th></tr>\n",
       "</thead>\n",
       "<tbody>\n",
       "\t<tr><td>accuracy</td><td>multiclass</td><td>0.4</td></tr>\n",
       "</tbody>\n",
       "</table>\n"
      ],
      "text/latex": [
       "A tibble: 1 × 3\n",
       "\\begin{tabular}{lll}\n",
       " .metric & .estimator & .estimate\\\\\n",
       " <chr> & <chr> & <dbl>\\\\\n",
       "\\hline\n",
       "\t accuracy & multiclass & 0.4\\\\\n",
       "\\end{tabular}\n"
      ],
      "text/markdown": [
       "\n",
       "A tibble: 1 × 3\n",
       "\n",
       "| .metric &lt;chr&gt; | .estimator &lt;chr&gt; | .estimate &lt;dbl&gt; |\n",
       "|---|---|---|\n",
       "| accuracy | multiclass | 0.4 |\n",
       "\n"
      ],
      "text/plain": [
       "  .metric  .estimator .estimate\n",
       "1 accuracy multiclass 0.4      "
      ]
     },
     "metadata": {},
     "output_type": "display_data"
    },
    {
     "data": {
      "text/html": [
       "'Confusion table'"
      ],
      "text/latex": [
       "'Confusion table'"
      ],
      "text/markdown": [
       "'Confusion table'"
      ],
      "text/plain": [
       "[1] \"Confusion table\""
      ]
     },
     "metadata": {},
     "output_type": "display_data"
    },
    {
     "data": {
      "text/plain": [
       "          Truth\n",
       "Prediction  0  1  2  3\n",
       "         0  0  0  2  4\n",
       "         1  0  1  2  4\n",
       "         2  0  1  0  6\n",
       "         3  0  1  1 13"
      ]
     },
     "metadata": {},
     "output_type": "display_data"
    }
   ],
   "source": [
    "set.seed(2022)\n",
    "# Predictions\n",
    "heart_test_predictions <- predict(knn_best_fit, heart_test) |>\n",
    "  bind_cols(heart_test)\n",
    "\n",
    "# Getting metrics + confusion matrix\n",
    "prediction_metrics <- heart_test_predictions |> \n",
    "                      metrics(truth = cp, estimate = .pred_class) |>\n",
    "                      filter(.metric == \"accuracy\")\n",
    "heart_confusion_matrix <- heart_test_predictions |>\n",
    "             conf_mat(truth = cp, estimate = .pred_class)\n",
    "\n",
    "paste(\"Model accuracy metric\")\n",
    "prediction_metrics\n",
    "\n",
    "paste(\"Confusion table\")\n",
    "heart_confusion_matrix"
   ]
  },
  {
   "cell_type": "markdown",
   "id": "872bfde6-e86f-41e0-8df9-faf497a7bf09",
   "metadata": {},
   "source": [
    "#### RESULTS"
   ]
  },
  {
   "cell_type": "markdown",
   "id": "2c6905ef-498d-48cb-ae6f-dffe4bd0e30c",
   "metadata": {},
   "source": [
    "(Results go here)"
   ]
  },
  {
   "cell_type": "markdown",
   "id": "b0975b0b-d4d3-4b9e-aabe-9b8914dd54d3",
   "metadata": {},
   "source": [
    "### DISCUSSION"
   ]
  },
  {
   "cell_type": "markdown",
   "id": "5bf62cc0-1d14-4bb7-8ad5-70808f5893f0",
   "metadata": {},
   "source": [
    "(Discussion go here)"
   ]
  },
  {
   "cell_type": "markdown",
   "id": "17f99b83-fa98-42fd-a51b-d72236dbe5db",
   "metadata": {},
   "source": [
    "### REFERENCES"
   ]
  },
  {
   "cell_type": "markdown",
   "id": "5603c1c9-8e64-48bb-81e7-7931287db9c7",
   "metadata": {},
   "source": [
    "Data set source : (https://www.kaggle.com/datasets/cherngs/heart-disease-cleveland-uci?resource=download)"
   ]
  }
 ],
 "metadata": {
  "kernelspec": {
   "display_name": "R",
   "language": "R",
   "name": "ir"
  },
  "language_info": {
   "codemirror_mode": "r",
   "file_extension": ".r",
   "mimetype": "text/x-r-source",
   "name": "R",
   "pygments_lexer": "r",
   "version": "4.1.3"
  }
 },
 "nbformat": 4,
 "nbformat_minor": 5
}
